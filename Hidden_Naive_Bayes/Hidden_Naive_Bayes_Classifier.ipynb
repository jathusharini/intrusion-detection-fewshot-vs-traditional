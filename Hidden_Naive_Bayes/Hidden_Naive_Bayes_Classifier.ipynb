{
 "cells": [
  {
   "cell_type": "code",
   "execution_count": 1,
   "metadata": {},
   "outputs": [],
   "source": [
    "import warnings\n",
    "warnings.filterwarnings(\"ignore\", category=UserWarning)\n",
    "import pandas as pd\n",
    "import numpy as np\n",
    "from sklearn.model_selection import train_test_split\n",
    "from sklearn.preprocessing import LabelEncoder, StandardScaler\n",
    "from sklearn.metrics import accuracy_score, confusion_matrix, classification_report, roc_curve, auc\n",
    "import matplotlib.pyplot as plt"
   ]
  },
  {
   "cell_type": "code",
   "execution_count": 2,
   "metadata": {},
   "outputs": [],
   "source": [
    "# Step 1: Load Data\n",
    "def load_data(filepath):\n",
    "    data = pd.read_csv(filepath)\n",
    "    return data"
   ]
  },
  {
   "cell_type": "code",
   "execution_count": 5,
   "metadata": {},
   "outputs": [],
   "source": [
    "# Step 2: Preprocessing\n",
    "def preprocess_data(data):\n",
    "    # Drop rows where 'Label' is missing\n",
    "    if 'Label' in data.columns:\n",
    "        data.dropna(subset=['Label'], inplace=True)\n",
    "    else:\n",
    "        raise KeyError(\"The 'Label' column is missing from the dataset.\")\n",
    "\n",
    "    # Drop irrelevant columns like 'Attack Type'\n",
    "    data.drop(columns=['Attack Type'], errors='ignore', inplace=True)\n",
    "\n",
    "    # Keep only numeric columns\n",
    "    data = data.select_dtypes(include=[np.number])\n",
    "\n",
    "    # Impute missing values\n",
    "    data.fillna(data.mean(), inplace=True)\n",
    "\n",
    "    # Label encoding for binary classification\n",
    "    label_encoder = LabelEncoder()\n",
    "    data['Label'] = label_encoder.fit_transform(data['Label'])\n",
    "\n",
    "    # Scaling\n",
    "    scaler = StandardScaler()\n",
    "    features = data.drop(columns=['Label'])\n",
    "    scaled_features = scaler.fit_transform(features)\n",
    "\n",
    "    return pd.DataFrame(scaled_features, columns=features.columns), data['Label']"
   ]
  },
  {
   "cell_type": "code",
   "execution_count": 3,
   "metadata": {},
   "outputs": [],
   "source": [
    "def main():\n",
    "    filepath = r\"C:\\\\Users\\\\HP\\\\Documents\\\\GitHub\\\\intrusion-detection-fewshot-vs-traditional\\\\cleaned_dataset.csv\"  \n",
    "    data = load_data(filepath)\n",
    "\n",
    "if __name__ == \"__main__\":\n",
    "    main()"
   ]
  }
 ],
 "metadata": {
  "kernelspec": {
   "display_name": "Python 3",
   "language": "python",
   "name": "python3"
  },
  "language_info": {
   "codemirror_mode": {
    "name": "ipython",
    "version": 3
   },
   "file_extension": ".py",
   "mimetype": "text/x-python",
   "name": "python",
   "nbconvert_exporter": "python",
   "pygments_lexer": "ipython3",
   "version": "3.8.10"
  },
  "orig_nbformat": 4
 },
 "nbformat": 4,
 "nbformat_minor": 2
}
