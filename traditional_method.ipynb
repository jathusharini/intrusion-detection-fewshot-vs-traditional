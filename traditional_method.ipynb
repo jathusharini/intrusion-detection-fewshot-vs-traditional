{
  "cells": [
    {
      "cell_type": "markdown",
      "metadata": {
        "id": "view-in-github",
        "colab_type": "text"
      },
      "source": [
        "<a href=\"https://colab.research.google.com/github/jathusharini/intrusion-detection-fewshot-vs-traditional/blob/main/traditional_method.ipynb\" target=\"_parent\"><img src=\"https://colab.research.google.com/assets/colab-badge.svg\" alt=\"Open In Colab\"/></a>"
      ]
    },
    {
      "cell_type": "code",
      "execution_count": null,
      "id": "initial_id",
      "metadata": {
        "ExecuteTime": {
          "end_time": "2024-11-27T05:43:17.449184300Z",
          "start_time": "2024-11-27T05:43:15.746705300Z"
        },
        "collapsed": true,
        "id": "initial_id"
      },
      "outputs": [],
      "source": [
        "#importing necessary libraries that will be used throughout the project\n",
        "import pandas as pd\n",
        "import os\n",
        "import matplotlib.pyplot as plt\n",
        "import numpy as np\n",
        "import seaborn as sns\n",
        "import warnings\n",
        "from imblearn.over_sampling import SMOTE\n",
        "from sklearn.preprocessing import LabelEncoder\n",
        "from sklearn.model_selection import train_test_split\n",
        "from sklearn.ensemble import RandomForestClassifier, AdaBoostClassifier\n",
        "from sklearn.neighbors import KNeighborsClassifier\n",
        "from sklearn.metrics import f1_score"
      ]
    },
    {
      "cell_type": "code",
      "execution_count": null,
      "id": "67dc69a442e05c65",
      "metadata": {
        "ExecuteTime": {
          "end_time": "2024-11-27T05:46:07.152845900Z",
          "start_time": "2024-11-27T05:46:06.552497700Z"
        },
        "id": "67dc69a442e05c65"
      },
      "outputs": [],
      "source": [
        "#Load the Subset Dataset\n",
        "file_path = \"cleaned_dataset.csv\"\n",
        "df = pd.read_csv(file_path)"
      ]
    },
    {
      "cell_type": "code",
      "execution_count": null,
      "id": "6de085cebc99c4fb",
      "metadata": {
        "id": "6de085cebc99c4fb"
      },
      "outputs": [],
      "source": [
        "# Encoding Categorical Features\n",
        "label_encoder = LabelEncoder()\n",
        "if 'Label' in df.columns:\n",
        "    df['Label'] = label_encoder.fit_transform(df['Label'])"
      ]
    },
    {
      "cell_type": "code",
      "source": [
        "# Data Splitting\n",
        "X = df.drop(['Attack Type', 'Label'], axis=1, errors='ignore')\n",
        "y = df['Label']\n",
        "X_train, X_temp, y_train, y_temp = train_test_split(X, y, test_size=0.3, random_state=42, stratify=y)\n",
        "X_val, X_test, y_val, y_test = train_test_split(X_temp, y_temp, test_size=0.5, random_state=42, stratify=y_temp)\n"
      ],
      "metadata": {
        "id": "sCRJAasQVGGL"
      },
      "id": "sCRJAasQVGGL",
      "execution_count": null,
      "outputs": []
    }
  ],
  "metadata": {
    "kernelspec": {
      "display_name": "Python 3",
      "language": "python",
      "name": "python3"
    },
    "language_info": {
      "codemirror_mode": {
        "name": "ipython",
        "version": 3
      },
      "file_extension": ".py",
      "mimetype": "text/x-python",
      "name": "python",
      "nbconvert_exporter": "python",
      "pygments_lexer": "ipython3",
      "version": "3.8.10"
    },
    "colab": {
      "provenance": [],
      "include_colab_link": true
    }
  },
  "nbformat": 4,
  "nbformat_minor": 5
}