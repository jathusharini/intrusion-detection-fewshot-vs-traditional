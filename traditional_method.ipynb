{
  "cells": [
    {
      "cell_type": "markdown",
      "metadata": {
        "id": "view-in-github",
        "colab_type": "text"
      },
      "source": [
        "<a href=\"https://colab.research.google.com/github/jathusharini/intrusion-detection-fewshot-vs-traditional/blob/main/traditional_method.ipynb\" target=\"_parent\"><img src=\"https://colab.research.google.com/assets/colab-badge.svg\" alt=\"Open In Colab\"/></a>"
      ]
    },
    {
      "cell_type": "code",
      "execution_count": 1,
      "id": "initial_id",
      "metadata": {
        "collapsed": true,
        "id": "initial_id",
        "ExecuteTime": {
          "end_time": "2024-12-06T10:57:59.417520Z",
          "start_time": "2024-12-06T10:57:59.396586100Z"
        }
      },
      "outputs": [],
      "source": [
        "import pandas as pd\n",
        "import numpy as np\n",
        "import matplotlib.pyplot as plt\n",
        "from sklearn.model_selection import train_test_split, GridSearchCV\n",
        "from sklearn.preprocessing import StandardScaler, LabelEncoder\n",
        "from sklearn.naive_bayes import GaussianNB\n",
        "from sklearn.metrics import classification_report, confusion_matrix, accuracy_score, roc_curve, auc\n"
      ]
    },
    {
      "cell_type": "code",
      "execution_count": 4,
      "id": "67dc69a442e05c65",
      "metadata": {
        "id": "67dc69a442e05c65",
        "ExecuteTime": {
          "end_time": "2024-12-06T10:57:59.533380200Z",
          "start_time": "2024-12-06T10:57:59.509318100Z"
        }
      },
      "outputs": [],
      "source": [
        "# Load the dataset\n",
        "data_path = \"/content/sample_data/cleaned_dataset.csv\"\n",
        "data = pd.read_csv(data_path)"
      ]
    },
    {
      "cell_type": "code",
      "execution_count": 5,
      "id": "6de085cebc99c4fb",
      "metadata": {
        "id": "6de085cebc99c4fb",
        "ExecuteTime": {
          "end_time": "2024-12-06T10:58:00.120561500Z",
          "start_time": "2024-12-06T10:58:00.120561500Z"
        }
      },
      "outputs": [],
      "source": [
        "# Handle non-numeric values\n",
        "non_numeric_columns = data.select_dtypes(include=['object']).columns\n",
        "\n",
        "for column in non_numeric_columns:\n",
        "    encoder = LabelEncoder()\n",
        "    data[column] = encoder.fit_transform(data[column])"
      ]
    },
    {
      "cell_type": "code",
      "execution_count": 6,
      "id": "sCRJAasQVGGL",
      "metadata": {
        "id": "sCRJAasQVGGL",
        "ExecuteTime": {
          "end_time": "2024-12-06T10:58:00.705994200Z",
          "start_time": "2024-12-06T10:58:00.678492100Z"
        }
      },
      "outputs": [],
      "source": [
        "# Feature selection and target\n",
        "X = data.drop(columns=['Attack Type', 'Label'])  # Drop non-feature and target columns\n",
        "y = data['Label']  # Binary classification target"
      ]
    },
    {
      "cell_type": "code",
      "execution_count": 7,
      "id": "EJBl5J8uWXzo",
      "metadata": {
        "id": "EJBl5J8uWXzo",
        "ExecuteTime": {
          "end_time": "2024-12-06T10:58:01.147922200Z",
          "start_time": "2024-12-06T10:58:01.090415900Z"
        }
      },
      "outputs": [],
      "source": [
        "# Scale the features\n",
        "scaler = StandardScaler()\n",
        "X_scaled = scaler.fit_transform(X)"
      ]
    },
    {
      "cell_type": "code",
      "execution_count": 8,
      "id": "d4d662a2",
      "metadata": {
        "ExecuteTime": {
          "end_time": "2024-12-06T10:58:01.540783500Z",
          "start_time": "2024-12-06T10:58:01.493455Z"
        },
        "id": "d4d662a2"
      },
      "outputs": [],
      "source": [
        "# Split the dataset into training and testing sets\n",
        "X_train, X_test, y_train, y_test = train_test_split(X_scaled, y, test_size=0.2, random_state=42)"
      ]
    }
  ],
  "metadata": {
    "colab": {
      "provenance": [],
      "include_colab_link": true
    },
    "kernelspec": {
      "display_name": "Python 3",
      "language": "python",
      "name": "python3"
    },
    "language_info": {
      "codemirror_mode": {
        "name": "ipython",
        "version": 3
      },
      "file_extension": ".py",
      "mimetype": "text/x-python",
      "name": "python",
      "nbconvert_exporter": "python",
      "pygments_lexer": "ipython3",
      "version": "3.8.10"
    }
  },
  "nbformat": 4,
  "nbformat_minor": 5
}