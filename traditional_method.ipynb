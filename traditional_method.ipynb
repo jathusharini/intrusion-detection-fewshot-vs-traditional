{
 "cells": [
  {
   "cell_type": "code",
   "execution_count": 2,
   "id": "initial_id",
   "metadata": {
    "ExecuteTime": {
     "end_time": "2024-11-27T05:43:17.449184300Z",
     "start_time": "2024-11-27T05:43:15.746705300Z"
    },
    "collapsed": true
   },
   "outputs": [],
   "source": [
    "#importing necessary libraries that will be used throughout the project\n",
    "import pandas as pd\n",
    "import os\n",
    "import matplotlib.pyplot as plt\n",
    "import numpy as np\n",
    "import seaborn as sns\n",
    "import warnings\n",
    "from imblearn.over_sampling import SMOTE\n",
    "from sklearn.preprocessing import LabelEncoder\n",
    "from sklearn.model_selection import train_test_split\n",
    "from sklearn.ensemble import RandomForestClassifier, AdaBoostClassifier\n",
    "from sklearn.neighbors import KNeighborsClassifier\n",
    "from sklearn.metrics import f1_score"
   ]
  },
  {
   "cell_type": "code",
   "execution_count": 3,
   "id": "67dc69a442e05c65",
   "metadata": {
    "ExecuteTime": {
     "end_time": "2024-11-27T05:46:07.152845900Z",
     "start_time": "2024-11-27T05:46:06.552497700Z"
    },
    "collapsed": false
   },
   "outputs": [],
   "source": [
    "#Load the Subset Dataset\n",
    "file_path = \"cleaned_dataset.csv\"  \n",
    "df = pd.read_csv(file_path)"
   ]
  },
  {
   "cell_type": "code",
   "execution_count": 4,
   "id": "6de085cebc99c4fb",
   "metadata": {
    "collapsed": false
   },
   "outputs": [],
   "source": [
    "# Encoding Categorical Features\n",
    "label_encoder = LabelEncoder()\n",
    "if 'Label' in df.columns:\n",
    "    df['Label'] = label_encoder.fit_transform(df['Label'])"
   ]
  }
 ],
 "metadata": {
  "kernelspec": {
   "display_name": "Python 3",
   "language": "python",
   "name": "python3"
  },
  "language_info": {
   "codemirror_mode": {
    "name": "ipython",
    "version": 3
   },
   "file_extension": ".py",
   "mimetype": "text/x-python",
   "name": "python",
   "nbconvert_exporter": "python",
   "pygments_lexer": "ipython3",
   "version": "3.8.10"
  }
 },
 "nbformat": 4,
 "nbformat_minor": 5
}
