{
 "cells": [
  {
   "cell_type": "markdown",
   "metadata": {
    "colab_type": "text",
    "id": "view-in-github",
    "ExecuteTime": {
     "end_time": "2024-12-06T10:57:58.870064Z",
     "start_time": "2024-12-06T10:57:58.846380Z"
    }
   },
   "source": [
    "<a href=\"https://colab.research.google.com/github/jathusharini/intrusion-detection-fewshot-vs-traditional/blob/main/traditional_method.ipynb\" target=\"_parent\"><img src=\"https://colab.research.google.com/assets/colab-badge.svg\" alt=\"Open In Colab\"/></a>"
   ],
   "id": "5c5167f0466856fe"
  },
  {
   "cell_type": "code",
   "execution_count": 27,
   "id": "initial_id",
   "metadata": {
    "collapsed": true,
    "id": "initial_id",
    "ExecuteTime": {
     "end_time": "2024-12-06T10:57:59.417520Z",
     "start_time": "2024-12-06T10:57:59.396586100Z"
    }
   },
   "outputs": [],
   "source": [
    "#importing necessary libraries that will be used throughout the project\n",
    "import pandas as pd\n",
    "import os\n",
    "import matplotlib.pyplot as plt\n",
    "import numpy as np\n",
    "import seaborn as sns\n",
    "import warnings\n",
    "from imblearn.over_sampling import SMOTE\n",
    "from sklearn.preprocessing import LabelEncoder\n",
    "from sklearn.model_selection import train_test_split\n",
    "from sklearn.ensemble import RandomForestClassifier, AdaBoostClassifier\n",
    "from sklearn.neighbors import KNeighborsClassifier\n",
    "from sklearn.metrics import f1_score"
   ]
  },
  {
   "cell_type": "code",
   "execution_count": 28,
   "id": "67dc69a442e05c65",
   "metadata": {
    "id": "67dc69a442e05c65",
    "ExecuteTime": {
     "end_time": "2024-12-06T10:57:59.533380200Z",
     "start_time": "2024-12-06T10:57:59.509318100Z"
    }
   },
   "outputs": [],
   "source": [
    "#Load the Subset Dataset\n",
    "file_path = \"cleaned_dataset.csv\"\n",
    "df = pd.read_csv(file_path)"
   ]
  },
  {
   "cell_type": "code",
   "execution_count": 29,
   "id": "6de085cebc99c4fb",
   "metadata": {
    "id": "6de085cebc99c4fb",
    "ExecuteTime": {
     "end_time": "2024-12-06T10:58:00.120561500Z",
     "start_time": "2024-12-06T10:58:00.120561500Z"
    }
   },
   "outputs": [],
   "source": [
    "# Encoding Categorical Features\n",
    "label_encoder = LabelEncoder()\n",
    "if 'Label' in df.columns:\n",
    "    df['Label'] = label_encoder.fit_transform(df['Label'])"
   ]
  },
  {
   "cell_type": "code",
   "execution_count": 30,
   "id": "sCRJAasQVGGL",
   "metadata": {
    "id": "sCRJAasQVGGL",
    "ExecuteTime": {
     "end_time": "2024-12-06T10:58:00.705994200Z",
     "start_time": "2024-12-06T10:58:00.678492100Z"
    }
   },
   "outputs": [],
   "source": [
    "# Data Splitting\n",
    "X = df.drop(['Attack Type', 'Label'], axis=1, errors='ignore')\n",
    "y = df['Label']\n",
    "X_train, X_temp, y_train, y_temp = train_test_split(X, y, test_size=0.3, random_state=42, stratify=y)\n",
    "X_val, X_test, y_val, y_test = train_test_split(X_temp, y_temp, test_size=0.5, random_state=42, stratify=y_temp)\n"
   ]
  },
  {
   "cell_type": "code",
   "execution_count": 31,
   "id": "EJBl5J8uWXzo",
   "metadata": {
    "colab": {
     "base_uri": "https://localhost:8080/"
    },
    "id": "EJBl5J8uWXzo",
    "outputId": "44d89778-eb2c-4cd2-d404-20f9d4ab799a",
    "ExecuteTime": {
     "end_time": "2024-12-06T10:58:01.147922200Z",
     "start_time": "2024-12-06T10:58:01.090415900Z"
    }
   },
   "outputs": [],
   "source": [
    "#Model Training and Evaluation\n",
    "models = [\n",
    "    (\"Random Forest\", RandomForestClassifier(random_state=42)),\n",
    "    (\"AdaBoost Classifier\", AdaBoostClassifier()),\n",
    "    (\"Knn Classifier\", KNeighborsClassifier())\n",
    "]\n",
    "\n",
    "scores = []\n",
    "for name, model in models:\n",
    "    model.fit(X_train, y_train)\n",
    "    y_pred = model.predict(X_val)\n",
    "    score = f1_score(y_val, y_pred, average='weighted')\n",
    "    scores.append((name, score))\n",
    "\n",
    "print(\"Model Performance on Validation Set:\")\n",
    "for name, score in scores:\n",
    "    print(f'{name} F1 score: {score}')"
   ]
  },
  {
   "cell_type": "code",
   "execution_count": 31,
   "id": "d4d662a2",
   "metadata": {
    "ExecuteTime": {
     "end_time": "2024-12-06T10:58:01.540783500Z",
     "start_time": "2024-12-06T10:58:01.493455Z"
    }
   },
   "outputs": [],
   "source": [
    "# Hyperparameter Tuning for Random Forest\n",
    "model = RandomForestClassifier(random_state=42)\n",
    "n_estimators = [5, 10, 15]\n",
    "max_depths = [5, 10, 15]\n",
    "tuning_results = []\n",
    "for n in n_estimators:\n",
    "    for d in max_depths:\n",
    "        model.set_params(n_estimators=n, max_depth=d)\n",
    "        model.fit(X_train, y_train)\n",
    "        y_pred = model.predict(X_val)\n",
    "        score = f1_score(y_val, y_pred, average='weighted')\n",
    "        tuning_results.append((n, d, score))\n",
    "\n",
    "print(\"\\nHyperparameter Tuning Results:\")\n",
    "for n, d, score in tuning_results:\n",
    "    print(f'n_estimators={n}, max_depth={d} F1 score: {score}')"
   ]
  }
 ],
 "metadata": {
  "colab": {
   "include_colab_link": true,
   "provenance": []
  },
  "kernelspec": {
   "display_name": "Python 3",
   "language": "python",
   "name": "python3"
  },
  "language_info": {
   "codemirror_mode": {
    "name": "ipython",
    "version": 3
   },
   "file_extension": ".py",
   "mimetype": "text/x-python",
   "name": "python",
   "nbconvert_exporter": "python",
   "pygments_lexer": "ipython3",
   "version": "3.8.10"
  }
 },
 "nbformat": 4,
 "nbformat_minor": 5
}
