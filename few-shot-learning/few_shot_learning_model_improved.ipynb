{
  "nbformat": 4,
  "nbformat_minor": 0,
  "metadata": {
    "colab": {
      "provenance": []
    },
    "kernelspec": {
      "name": "python3",
      "display_name": "Python 3"
    },
    "language_info": {
      "name": "python"
    }
  },
  "cells": [
    {
      "cell_type": "code",
      "execution_count": 1,
      "metadata": {
        "id": "sFZfyHbwDSxo"
      },
      "outputs": [],
      "source": [
        "# Import Required Libraries\n",
        "import pandas as pd\n",
        "import torch\n",
        "import torch.nn as nn\n",
        "import torch.optim as optim\n",
        "from sklearn.model_selection import train_test_split\n",
        "from tqdm import tqdm\n",
        "import matplotlib.pyplot as plt\n",
        "from sklearn.metrics import confusion_matrix, precision_score, recall_score, f1_score\n",
        "import seaborn as sns\n"
      ]
    },
    {
      "cell_type": "code",
      "source": [
        "# Preprocessing Function\n",
        "def preprocess_binary_csv(csv_path, n_support, n_query):\n",
        "    \"\"\"\n",
        "    Preprocess CSV data into support and query sets for binary classification.\n",
        "    \"\"\"\n",
        "    df = pd.read_csv(csv_path)\n",
        "\n",
        "    # Clean column names (remove extra spaces if any)\n",
        "    df.columns = df.columns.str.strip()\n",
        "\n",
        "    # Ensure all features are numeric and handle missing data\n",
        "    feature_columns = df.columns.difference(['Label', 'Attack Type'])\n",
        "    df[feature_columns] = df[feature_columns].apply(pd.to_numeric, errors='coerce')\n",
        "    df = df.dropna(subset=feature_columns)\n",
        "\n",
        "    # Separate the two classes: attack (1) and normal (0)\n",
        "    attack_data = df[df[\"Label\"] == 1]\n",
        "    normal_data = df[df[\"Label\"] == 0]\n",
        "\n",
        "    print(f\"Attack Samples: {len(attack_data)}\")\n",
        "    print(f\"Normal Samples: {len(normal_data)}\")\n",
        "\n",
        "    # Ensure enough samples for support and query sets\n",
        "    if len(attack_data) < n_support + n_query or len(normal_data) < n_support + n_query:\n",
        "        raise ValueError(\"Not enough samples in one or more classes to split into support and query sets.\")\n",
        "\n",
        "    # Split each class into support and query sets\n",
        "    attack_support, attack_query = train_test_split(attack_data, test_size=0.6, random_state=42)\n",
        "    normal_support, normal_query = train_test_split(normal_data, test_size=0.6, random_state=42)\n",
        "\n",
        "    # Select support and query samples\n",
        "    attack_support = attack_support[:n_support]\n",
        "    normal_support = normal_support[:n_support]\n",
        "    attack_query = attack_query[:n_query]\n",
        "    normal_query = normal_query[:n_query]\n",
        "\n",
        "    # Combine the support and query sets\n",
        "    support_set = pd.concat([attack_support, normal_support])\n",
        "    query_set = pd.concat([attack_query, normal_query])\n",
        "\n",
        "    # Convert to PyTorch tensors\n",
        "    support_x = torch.tensor(support_set[feature_columns].values, dtype=torch.float32)\n",
        "    support_y = torch.tensor(support_set[\"Label\"].values, dtype=torch.int64)\n",
        "    query_x = torch.tensor(query_set[feature_columns].values, dtype=torch.float32)\n",
        "    query_y = torch.tensor(query_set[\"Label\"].values, dtype=torch.int64)\n",
        "\n",
        "    return support_x, support_y, query_x, query_y"
      ],
      "metadata": {
        "id": "TXmK7SSLDf_b"
      },
      "execution_count": 25,
      "outputs": []
    },
    {
      "cell_type": "code",
      "source": [
        "from sklearn.preprocessing import StandardScaler\n",
        "from imblearn.over_sampling import RandomOverSampler\n",
        "\n",
        "def preprocess_and_oversample(csv_path, n_support, n_query):\n",
        "    df = pd.read_csv(csv_path)\n",
        "    df.columns = df.columns.str.strip()\n",
        "\n",
        "    # Separate features and labels\n",
        "    feature_columns = df.columns.difference(['Label'])\n",
        "    X = df[feature_columns]\n",
        "    y = df['Label']\n",
        "\n",
        "    # Ensure all features are numeric\n",
        "    X = X.apply(pd.to_numeric, errors='coerce').fillna(0)\n",
        "\n",
        "    # Scale features\n",
        "    from sklearn.preprocessing import StandardScaler\n",
        "    scaler = StandardScaler()\n",
        "    X = scaler.fit_transform(X)\n",
        "\n",
        "    # Oversample\n",
        "    from imblearn.over_sampling import RandomOverSampler\n",
        "    oversampler = RandomOverSampler(random_state=42)\n",
        "    X_resampled, y_resampled = oversampler.fit_resample(X, y)\n",
        "\n",
        "    # Split into support and query sets\n",
        "    from sklearn.model_selection import train_test_split\n",
        "    support_x, query_x, support_y, query_y = train_test_split(\n",
        "        X_resampled, y_resampled, test_size=n_query / len(X_resampled), stratify=y_resampled, random_state=42\n",
        "    )\n",
        "\n",
        "    # Convert to PyTorch tensors (convert y explicitly to NumPy)\n",
        "    return torch.tensor(support_x, dtype=torch.float32), \\\n",
        "           torch.tensor(support_y.to_numpy(), dtype=torch.int64), \\\n",
        "           torch.tensor(query_x, dtype=torch.float32), \\\n",
        "           torch.tensor(query_y.to_numpy(), dtype=torch.int64)\n",
        "\n"
      ],
      "metadata": {
        "id": "LzhjkdiaIYfC"
      },
      "execution_count": 29,
      "outputs": []
    },
    {
      "cell_type": "code",
      "source": [
        "# Prototypical Network\n",
        "class ProtoNet(nn.Module):\n",
        "    def __init__(self, input_dim, hidden_dim, z_dim, dropout_rate=0.5):\n",
        "        super(ProtoNet, self).__init__()\n",
        "        self.fc1 = nn.Linear(input_dim, hidden_dim)\n",
        "        self.bn1 = nn.BatchNorm1d(hidden_dim)  # Batch normalization\n",
        "        self.dropout = nn.Dropout(dropout_rate)  # Dropout layer\n",
        "        self.fc2 = nn.Linear(hidden_dim, z_dim)\n",
        "\n",
        "    def forward(self, x):\n",
        "        x = torch.relu(self.bn1(self.fc1(x)))  # Batch norm and activation\n",
        "        x = self.dropout(x)  # Dropout\n",
        "        x = self.fc2(x)\n",
        "        return x\n",
        "\n",
        "    def set_forward_loss(self, support_x, support_y, query_x, query_y, lambda_reg=0.1):\n",
        "        support_embed = self.forward(support_x)\n",
        "        query_embed = self.forward(query_x)\n",
        "\n",
        "        # Compute prototypes\n",
        "        prototypes = self.compute_prototypes(support_embed, support_y)\n",
        "\n",
        "        # Compute distances\n",
        "        distances = self.compute_distances(query_embed, prototypes)\n",
        "\n",
        "        # Weighted cross-entropy loss\n",
        "        class_counts = torch.bincount(support_y)\n",
        "        total_samples = len(support_y)\n",
        "        class_weights = total_samples / (len(class_counts) * class_counts)\n",
        "        class_weights = class_weights.to(distances.device)\n",
        "        loss_fn = nn.CrossEntropyLoss(weight=class_weights)\n",
        "        loss = loss_fn(distances, query_y)\n",
        "\n",
        "        # Prototype regularization (to ensure separation)\n",
        "        proto_distances = torch.cdist(prototypes, prototypes)\n",
        "        reg_loss = lambda_reg * (1 / (proto_distances + 1e-5)).sum()\n",
        "\n",
        "        total_loss = loss + reg_loss\n",
        "        accuracy = (distances.argmax(dim=1) == query_y).float().mean()\n",
        "        return total_loss, accuracy\n",
        "\n",
        "\n",
        "\n",
        "\n",
        "    def compute_prototypes(self, support_embed, support_y):\n",
        "        unique_labels = torch.unique(support_y)\n",
        "        prototypes = []\n",
        "        for label in unique_labels:\n",
        "            class_embed = support_embed[support_y == label]\n",
        "            if class_embed.size(0) == 0:\n",
        "                print(f\"Warning: No samples for class {label}\")\n",
        "            prototypes.append(class_embed.mean(dim=0))\n",
        "        prototypes = torch.stack(prototypes)\n",
        "        #print(f\"Prototypes: {prototypes}\")\n",
        "        return prototypes\n",
        "\n",
        "\n",
        "    def compute_distances(self, query_embed, prototypes, metric='cosine'):\n",
        "        if metric == 'cosine':\n",
        "            # Normalize embeddings\n",
        "            query_embed = nn.functional.normalize(query_embed, dim=1)\n",
        "            prototypes = nn.functional.normalize(prototypes, dim=1)\n",
        "            distances = 1 - torch.matmul(query_embed, prototypes.T)  # Cosine similarity\n",
        "        else:\n",
        "            # Default: Euclidean distance\n",
        "            distances = torch.cdist(query_embed, prototypes)\n",
        "        return distances\n"
      ],
      "metadata": {
        "id": "PgoeoKnvDnWF"
      },
      "execution_count": 31,
      "outputs": []
    },
    {
      "cell_type": "code",
      "source": [
        "# Training Function with Early Stopping\n",
        "def train_with_early_stopping(\n",
        "    model, optimizer, support_x, support_y, query_x, query_y,\n",
        "    n_way, n_support, n_query, max_epoch, epoch_size, patience=5\n",
        "):\n",
        "    scheduler = optim.lr_scheduler.StepLR(optimizer, step_size=1, gamma=0.5, last_epoch=-1)\n",
        "    prev_epoch_loss = float(\"inf\")\n",
        "    best_epoch = 0\n",
        "    best_model_state = None\n",
        "    epochs_no_improve = 0\n",
        "\n",
        "    history = {\"train_loss\": [], \"train_acc\": [], \"val_loss\": [], \"val_acc\": []}\n",
        "\n",
        "    for epoch in range(max_epoch):\n",
        "        # Training phase\n",
        "        model.train()\n",
        "        running_loss, running_acc = 0.0, 0.0\n",
        "        for _ in tqdm(range(epoch_size), desc=f\"Epoch {epoch + 1} train\"):\n",
        "            loss, acc = model.set_forward_loss(support_x, support_y, query_x, query_y)\n",
        "            running_loss += loss.item()\n",
        "            running_acc += acc.item()\n",
        "\n",
        "            loss.backward()\n",
        "            optimizer.step()\n",
        "            optimizer.zero_grad()\n",
        "\n",
        "        train_loss = running_loss / epoch_size\n",
        "        train_acc = running_acc / epoch_size\n",
        "        history[\"train_loss\"].append(train_loss)\n",
        "        history[\"train_acc\"].append(train_acc)\n",
        "        print(f\"Epoch {epoch + 1} -- Train Loss: {train_loss:.4f}, Train Accuracy: {train_acc:.4f}\")\n",
        "\n",
        "        # Validation phase\n",
        "        model.eval()\n",
        "        with torch.no_grad():\n",
        "            val_loss, val_acc = model.set_forward_loss(support_x, support_y, query_x, query_y)\n",
        "            val_loss = val_loss.item()\n",
        "            val_acc = val_acc.item()\n",
        "\n",
        "        history[\"val_loss\"].append(val_loss)\n",
        "        history[\"val_acc\"].append(val_acc)\n",
        "        print(f\"Epoch {epoch + 1} -- Validation Loss: {val_loss:.4f}, Validation Accuracy: {val_acc:.4f}\")\n",
        "\n",
        "        # Early stopping check\n",
        "        if val_loss < prev_epoch_loss:\n",
        "            prev_epoch_loss = val_loss\n",
        "            best_epoch = epoch\n",
        "            best_model_state = model.state_dict()\n",
        "            epochs_no_improve = 0\n",
        "        else:\n",
        "            epochs_no_improve += 1\n",
        "            if epochs_no_improve >= patience:\n",
        "                print(f\"Early stopping at epoch {epoch + 1}\")\n",
        "                break\n",
        "\n",
        "        scheduler.step()\n",
        "\n",
        "    # Restore best model\n",
        "    if best_model_state:\n",
        "        model.load_state_dict(best_model_state)\n",
        "        print(f\"Restored model from epoch {best_epoch + 1} with best validation loss: {prev_epoch_loss:.4f}\")\n",
        "\n",
        "    return history"
      ],
      "metadata": {
        "id": "5dmjpqrSDwSt"
      },
      "execution_count": 17,
      "outputs": []
    },
    {
      "cell_type": "code",
      "source": [
        "# Visualization Function\n",
        "def plot_training_history(history):\n",
        "    plt.figure(figsize=(12, 6))\n",
        "\n",
        "    # Plot Loss\n",
        "    plt.subplot(1, 2, 1)\n",
        "    plt.plot(history[\"train_loss\"], label=\"Train Loss\")\n",
        "    plt.plot(history[\"val_loss\"], label=\"Validation Loss\")\n",
        "    plt.xlabel(\"Epochs\")\n",
        "    plt.ylabel(\"Loss\")\n",
        "    plt.title(\"Loss Over Epochs\")\n",
        "    plt.legend()\n",
        "\n",
        "    # Plot Accuracy\n",
        "    plt.subplot(1, 2, 2)\n",
        "    plt.plot(history[\"train_acc\"], label=\"Train Accuracy\")\n",
        "    plt.plot(history[\"val_acc\"], label=\"Validation Accuracy\")\n",
        "    plt.xlabel(\"Epochs\")\n",
        "    plt.ylabel(\"Accuracy\")\n",
        "    plt.title(\"Accuracy Over Epochs\")\n",
        "    plt.legend()\n",
        "\n",
        "    plt.tight_layout()\n",
        "    plt.show()\n"
      ],
      "metadata": {
        "id": "LB54Yis2D2Uj"
      },
      "execution_count": 18,
      "outputs": []
    },
    {
      "cell_type": "code",
      "source": [
        "if __name__ == \"__main__\":\n",
        "    csv_path = \"Modified_dataset.csv\"\n",
        "    n_support = 30\n",
        "    n_query = 50\n",
        "    max_epoch = 50\n",
        "    epoch_size = 200\n",
        "\n",
        "    # Preprocess with oversampling\n",
        "    support_x, support_y, query_x, query_y = preprocess_and_oversample(csv_path, n_support, n_query)\n",
        "\n",
        "    # Initialize the model\n",
        "    model = ProtoNet(\n",
        "        input_dim=support_x.shape[1],\n",
        "        hidden_dim=128,\n",
        "        z_dim=64,\n",
        "        dropout_rate=0.4\n",
        "    ).to(\"cuda:0\" if torch.cuda.is_available() else \"cpu\")\n",
        "\n",
        "    # Optimizer\n",
        "    optimizer = optim.Adam(model.parameters(), lr=1e-6, weight_decay=0.001)\n",
        "\n",
        "    # Train\n",
        "    history = train_with_early_stopping(\n",
        "        model, optimizer, support_x, support_y, query_x, query_y,\n",
        "        n_way=2, n_support=n_support, n_query=n_query,\n",
        "        max_epoch=max_epoch, epoch_size=epoch_size, patience=10\n",
        "    )\n",
        "\n",
        "    # Save and evaluate\n",
        "    torch.save(model.state_dict(), \"protonet_final_model.pth\")\n",
        "    plot_training_history(history)\n",
        "\n",
        "    model.eval()\n",
        "    with torch.no_grad():\n",
        "        query_embed = model(query_x)\n",
        "        prototypes = model.compute_prototypes(model.forward(support_x), support_y)\n",
        "        distances = model.compute_distances(query_embed, prototypes, metric='cosine')\n",
        "        predictions = distances.argmin(dim=1)\n",
        "\n",
        "        # Metrics\n",
        "        test_accuracy = (predictions == query_y).float().mean().item()\n",
        "        precision = precision_score(query_y.cpu(), predictions.cpu(), zero_division=1)\n",
        "        recall = recall_score(query_y.cpu(), predictions.cpu(), zero_division=1)\n",
        "        f1 = f1_score(query_y.cpu(), predictions.cpu(), zero_division=1)\n",
        "\n",
        "    print(f\"Test Accuracy: {test_accuracy * 100:.2f}%\")\n",
        "    print(f\"Precision: {precision:.4f}, Recall: {recall:.4f}, F1-Score: {f1:.4f}\")\n",
        "\n",
        "    # Confusion Matrix\n",
        "    cm = confusion_matrix(query_y.cpu(), predictions.cpu())\n",
        "    plt.figure(figsize=(6, 5))\n",
        "    sns.heatmap(cm, annot=True, fmt=\"d\", cmap=\"Blues\", xticklabels=[\"Normal\", \"Attack\"], yticklabels=[\"Normal\", \"Attack\"])\n",
        "    plt.title(\"Confusion Matrix\")\n",
        "    plt.xlabel(\"Predicted Label\")\n",
        "    plt.ylabel(\"True Label\")\n",
        "    plt.show()\n"
      ],
      "metadata": {
        "colab": {
          "base_uri": "https://localhost:8080/",
          "height": 1000
        },
        "id": "J3l52ADVD69E",
        "outputId": "b3b76b2b-1597-48b2-c3e4-2b683c4f623a"
      },
      "execution_count": 36,
      "outputs": [
        {
          "output_type": "stream",
          "name": "stderr",
          "text": [
            "Epoch 1 train: 100%|██████████| 200/200 [00:00<00:00, 277.15it/s]\n"
          ]
        },
        {
          "output_type": "stream",
          "name": "stdout",
          "text": [
            "Epoch 1 -- Train Loss: 20000.9036, Train Accuracy: 0.2534\n",
            "Epoch 1 -- Validation Loss: 20000.9141, Validation Accuracy: 0.1800\n"
          ]
        },
        {
          "output_type": "stream",
          "name": "stderr",
          "text": [
            "Epoch 2 train: 100%|██████████| 200/200 [00:00<00:00, 275.11it/s]\n"
          ]
        },
        {
          "output_type": "stream",
          "name": "stdout",
          "text": [
            "Epoch 2 -- Train Loss: 20000.8996, Train Accuracy: 0.2617\n",
            "Epoch 2 -- Validation Loss: 20000.9121, Validation Accuracy: 0.1800\n"
          ]
        },
        {
          "output_type": "stream",
          "name": "stderr",
          "text": [
            "Epoch 3 train: 100%|██████████| 200/200 [00:00<00:00, 283.94it/s]\n"
          ]
        },
        {
          "output_type": "stream",
          "name": "stdout",
          "text": [
            "Epoch 3 -- Train Loss: 20000.8963, Train Accuracy: 0.2666\n",
            "Epoch 3 -- Validation Loss: 20000.9082, Validation Accuracy: 0.1800\n"
          ]
        },
        {
          "output_type": "stream",
          "name": "stderr",
          "text": [
            "Epoch 4 train: 100%|██████████| 200/200 [00:00<00:00, 275.71it/s]\n"
          ]
        },
        {
          "output_type": "stream",
          "name": "stdout",
          "text": [
            "Epoch 4 -- Train Loss: 20000.8974, Train Accuracy: 0.2597\n",
            "Epoch 4 -- Validation Loss: 20000.9082, Validation Accuracy: 0.1800\n"
          ]
        },
        {
          "output_type": "stream",
          "name": "stderr",
          "text": [
            "Epoch 5 train: 100%|██████████| 200/200 [00:00<00:00, 275.07it/s]\n"
          ]
        },
        {
          "output_type": "stream",
          "name": "stdout",
          "text": [
            "Epoch 5 -- Train Loss: 20000.8967, Train Accuracy: 0.2639\n",
            "Epoch 5 -- Validation Loss: 20000.9082, Validation Accuracy: 0.1800\n"
          ]
        },
        {
          "output_type": "stream",
          "name": "stderr",
          "text": [
            "Epoch 6 train: 100%|██████████| 200/200 [00:00<00:00, 277.28it/s]\n"
          ]
        },
        {
          "output_type": "stream",
          "name": "stdout",
          "text": [
            "Epoch 6 -- Train Loss: 20000.8961, Train Accuracy: 0.2631\n",
            "Epoch 6 -- Validation Loss: 20000.9082, Validation Accuracy: 0.1800\n"
          ]
        },
        {
          "output_type": "stream",
          "name": "stderr",
          "text": [
            "Epoch 7 train: 100%|██████████| 200/200 [00:00<00:00, 282.86it/s]\n"
          ]
        },
        {
          "output_type": "stream",
          "name": "stdout",
          "text": [
            "Epoch 7 -- Train Loss: 20000.8969, Train Accuracy: 0.2602\n",
            "Epoch 7 -- Validation Loss: 20000.9082, Validation Accuracy: 0.1800\n"
          ]
        },
        {
          "output_type": "stream",
          "name": "stderr",
          "text": [
            "Epoch 8 train: 100%|██████████| 200/200 [00:00<00:00, 273.65it/s]\n"
          ]
        },
        {
          "output_type": "stream",
          "name": "stdout",
          "text": [
            "Epoch 8 -- Train Loss: 20000.8961, Train Accuracy: 0.2612\n",
            "Epoch 8 -- Validation Loss: 20000.9082, Validation Accuracy: 0.1800\n"
          ]
        },
        {
          "output_type": "stream",
          "name": "stderr",
          "text": [
            "Epoch 9 train: 100%|██████████| 200/200 [00:00<00:00, 272.45it/s]\n"
          ]
        },
        {
          "output_type": "stream",
          "name": "stdout",
          "text": [
            "Epoch 9 -- Train Loss: 20000.8959, Train Accuracy: 0.2602\n",
            "Epoch 9 -- Validation Loss: 20000.9082, Validation Accuracy: 0.1800\n"
          ]
        },
        {
          "output_type": "stream",
          "name": "stderr",
          "text": [
            "Epoch 10 train: 100%|██████████| 200/200 [00:00<00:00, 282.57it/s]\n"
          ]
        },
        {
          "output_type": "stream",
          "name": "stdout",
          "text": [
            "Epoch 10 -- Train Loss: 20000.8958, Train Accuracy: 0.2671\n",
            "Epoch 10 -- Validation Loss: 20000.9082, Validation Accuracy: 0.1800\n"
          ]
        },
        {
          "output_type": "stream",
          "name": "stderr",
          "text": [
            "Epoch 11 train: 100%|██████████| 200/200 [00:00<00:00, 281.51it/s]\n"
          ]
        },
        {
          "output_type": "stream",
          "name": "stdout",
          "text": [
            "Epoch 11 -- Train Loss: 20000.8959, Train Accuracy: 0.2616\n",
            "Epoch 11 -- Validation Loss: 20000.9082, Validation Accuracy: 0.1800\n"
          ]
        },
        {
          "output_type": "stream",
          "name": "stderr",
          "text": [
            "Epoch 12 train: 100%|██████████| 200/200 [00:00<00:00, 234.60it/s]\n"
          ]
        },
        {
          "output_type": "stream",
          "name": "stdout",
          "text": [
            "Epoch 12 -- Train Loss: 20000.8956, Train Accuracy: 0.2590\n",
            "Epoch 12 -- Validation Loss: 20000.9082, Validation Accuracy: 0.1800\n"
          ]
        },
        {
          "output_type": "stream",
          "name": "stderr",
          "text": [
            "Epoch 13 train: 100%|██████████| 200/200 [00:01<00:00, 195.71it/s]\n"
          ]
        },
        {
          "output_type": "stream",
          "name": "stdout",
          "text": [
            "Epoch 13 -- Train Loss: 20000.8958, Train Accuracy: 0.2628\n",
            "Epoch 13 -- Validation Loss: 20000.9082, Validation Accuracy: 0.1800\n",
            "Early stopping at epoch 13\n",
            "Restored model from epoch 3 with best validation loss: 20000.9082\n"
          ]
        },
        {
          "output_type": "display_data",
          "data": {
            "text/plain": [
              "<Figure size 1200x600 with 2 Axes>"
            ],
            "image/png": "[encoded data removed]"
          },
          "metadata": {}
        },
        {
          "output_type": "stream",
          "name": "stdout",
          "text": [
            "Test Accuracy: 82.00%\n",
            "Precision: 0.8636, Recall: 0.7600, F1-Score: 0.8085\n"
          ]
        },
        {
          "output_type": "display_data",
          "data": {
            "text/plain": [
              "<Figure size 600x500 with 2 Axes>"
            ],
            "image/png": "[encoded data removed]"
          },
          "metadata": {}
        }
      ]
    }
  ]
}