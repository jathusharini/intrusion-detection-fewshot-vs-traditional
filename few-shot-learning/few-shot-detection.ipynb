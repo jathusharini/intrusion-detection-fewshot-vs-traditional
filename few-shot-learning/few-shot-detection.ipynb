{
 "cells": [
  {
   "cell_type": "code",
   "execution_count": 25,
   "outputs": [
    {
     "name": "stdout",
     "output_type": "stream",
     "text": [
      "Requirement already satisfied: pandas in c:\\users\\jathusharini\\venv\\lib\\site-packages (1.3.5)\n",
      "Requirement already satisfied: torch in c:\\users\\jathusharini\\venv\\lib\\site-packages (1.13.1)\n",
      "Requirement already satisfied: scikit-learn in c:\\users\\jathusharini\\venv\\lib\\site-packages (1.0.2)\n",
      "Requirement already satisfied: matplotlib in c:\\users\\jathusharini\\venv\\lib\\site-packages (3.5.3)\n",
      "Requirement already satisfied: tqdm in c:\\users\\jathusharini\\venv\\lib\\site-packages (4.66.1)\n",
      "Requirement already satisfied: python-dateutil>=2.7.3 in c:\\users\\jathusharini\\venv\\lib\\site-packages (from pandas) (2.8.2)\n",
      "Requirement already satisfied: pytz>=2017.3 in c:\\users\\jathusharini\\venv\\lib\\site-packages (from pandas) (2023.3)\n",
      "Requirement already satisfied: numpy>=1.17.3 in c:\\users\\jathusharini\\venv\\lib\\site-packages (from pandas) (1.21.6)\n",
      "Requirement already satisfied: typing-extensions in c:\\users\\jathusharini\\venv\\lib\\site-packages (from torch) (4.7.1)\n",
      "Requirement already satisfied: scipy>=1.1.0 in c:\\users\\jathusharini\\venv\\lib\\site-packages (from scikit-learn) (1.7.3)\n",
      "Requirement already satisfied: joblib>=0.11 in c:\\users\\jathusharini\\venv\\lib\\site-packages (from scikit-learn) (1.3.2)\n",
      "Requirement already satisfied: threadpoolctl>=2.0.0 in c:\\users\\jathusharini\\venv\\lib\\site-packages (from scikit-learn) (3.1.0)\n",
      "Requirement already satisfied: cycler>=0.10 in c:\\users\\jathusharini\\venv\\lib\\site-packages (from matplotlib) (0.11.0)\n",
      "Requirement already satisfied: fonttools>=4.22.0 in c:\\users\\jathusharini\\venv\\lib\\site-packages (from matplotlib) (4.38.0)\n",
      "Requirement already satisfied: kiwisolver>=1.0.1 in c:\\users\\jathusharini\\venv\\lib\\site-packages (from matplotlib) (1.4.5)\n",
      "Requirement already satisfied: packaging>=20.0 in c:\\users\\jathusharini\\venv\\lib\\site-packages (from matplotlib) (23.1)\n",
      "Requirement already satisfied: pillow>=6.2.0 in c:\\users\\jathusharini\\venv\\lib\\site-packages (from matplotlib) (9.4.0)\n",
      "Requirement already satisfied: pyparsing>=2.2.1 in c:\\users\\jathusharini\\venv\\lib\\site-packages (from matplotlib) (3.0.9)\n",
      "Requirement already satisfied: colorama in c:\\users\\jathusharini\\venv\\lib\\site-packages (from tqdm) (0.4.6)\n",
      "Requirement already satisfied: six>=1.5 in c:\\users\\jathusharini\\venv\\lib\\site-packages (from python-dateutil>=2.7.3->pandas) (1.16.0)\n"
     ]
    }
   ],
   "source": [
    "!pip install pandas torch scikit-learn matplotlib tqdm"
   ],
   "metadata": {
    "collapsed": false
   }
  },
  {
   "cell_type": "code",
   "execution_count": 48,
   "outputs": [],
   "source": [
    "import pandas as pd\n",
    "import torch\n",
    "import torch.optim as optim\n",
    "from sklearn.model_selection import train_test_split\n",
    "from tqdm import tqdm\n",
    "import torch.nn as nn\n",
    "\n"
   ],
   "metadata": {
    "collapsed": false
   }
  },
  {
   "cell_type": "code",
   "execution_count": 49,
   "outputs": [],
   "source": [
    "# Preprocess CSV Data for Binary Classification\n",
    "def preprocess_binary_csv(csv_path, n_support, n_query):\n",
    "    \"\"\"\n",
    "    Preprocess CSV data into support and query sets for binary classification.\n",
    "    \"\"\"\n",
    "    df = pd.read_csv(csv_path)\n",
    "\n",
    "    # Ensure all features are numeric and handle missing data\n",
    "    feature_columns = df.columns[:-1]  # Exclude 'Label'\n",
    "    df[feature_columns] = df[feature_columns].apply(pd.to_numeric, errors=\"coerce\")\n",
    "    df = df.dropna()  # Drop rows with NaN values\n",
    "\n",
    "    # Separate the two classes: attack (1) and normal (0)\n",
    "    attack_data = df[df[\"Label\"] == 1]\n",
    "    normal_data = df[df[\"Label\"] == 0]\n",
    "\n",
    "    print(f\"Attack Samples: {len(attack_data)}\")\n",
    "    print(f\"Normal Samples: {len(normal_data)}\")\n",
    "\n",
    "    # Split each class into support and query sets, ensuring we don't exceed available samples\n",
    "    attack_support, attack_query = train_test_split(attack_data, test_size=0.6, random_state=42)  # Change test_size to 0.6\n",
    "    normal_support, normal_query = train_test_split(normal_data, test_size=0.6, random_state=42)  # Change test_size to 0.6\n",
    "\n",
    "    # Ensure the appropriate number of samples for support and query sets\n",
    "    attack_support = attack_support[:n_support]\n",
    "    normal_support = normal_support[:n_support]\n",
    "    attack_query = attack_query[:n_query]\n",
    "    normal_query = normal_query[:n_query]\n",
    "\n",
    "    # Combine the support and query sets for both classes\n",
    "    support_set = pd.concat([attack_support, normal_support])\n",
    "    query_set = pd.concat([attack_query, normal_query])\n",
    "\n",
    "    # Convert to PyTorch tensors\n",
    "    support_x = torch.tensor(support_set.iloc[:, :-1].values, dtype=torch.float32)  # Exclude 'Label'\n",
    "    support_y = torch.tensor(support_set[\"Label\"].values, dtype=torch.int64)\n",
    "\n",
    "    query_x = torch.tensor(query_set.iloc[:, :-1].values, dtype=torch.float32)\n",
    "    query_y = torch.tensor(query_set[\"Label\"].values, dtype=torch.int64)\n",
    "\n",
    "    return support_x, support_y, query_x, query_y"
   ],
   "metadata": {
    "collapsed": false
   }
  },
  {
   "cell_type": "code",
   "execution_count": 50,
   "outputs": [],
   "source": [
    "# Prototypical Network (ProtoNet)\n",
    "class ProtoNet(nn.Module):\n",
    "    def __init__(self, input_dim, hidden_dim, z_dim):\n",
    "        super(ProtoNet, self).__init__()\n",
    "        self.fc1 = nn.Linear(input_dim, hidden_dim)\n",
    "        self.fc2 = nn.Linear(hidden_dim, z_dim)\n",
    "\n",
    "    def forward(self, x):\n",
    "        x = torch.relu(self.fc1(x))\n",
    "        x = self.fc2(x)\n",
    "        return x\n",
    "\n",
    "    def set_forward_loss(self, support_x, support_y, query_x, query_y):\n",
    "        support_embed = self.forward(support_x)\n",
    "        query_embed = self.forward(query_x)\n",
    "\n",
    "        prototypes = self.compute_prototypes(support_embed, support_y)\n",
    "        distances = self.compute_distances(query_embed, prototypes)\n",
    "\n",
    "        loss = nn.CrossEntropyLoss()(distances, query_y)\n",
    "        accuracy = (distances.argmax(dim=1) == query_y).float().mean()\n",
    "\n",
    "        return loss, accuracy\n",
    "\n",
    "    def compute_prototypes(self, support_embed, support_y):\n",
    "        unique_labels = torch.unique(support_y)\n",
    "        prototypes = []\n",
    "        for label in unique_labels:\n",
    "            class_embed = support_embed[support_y == label]\n",
    "            prototypes.append(class_embed.mean(dim=0))\n",
    "        return torch.stack(prototypes)\n",
    "\n",
    "    def compute_distances(self, query_embed, prototypes):\n",
    "        distances = torch.cdist(query_embed, prototypes)\n",
    "        return distances"
   ],
   "metadata": {
    "collapsed": false
   }
  },
  {
   "cell_type": "code",
   "execution_count": 51,
   "outputs": [],
   "source": [
    "# Training Function\n",
    "def train(model, optimizer, support_x, support_y, query_x, query_y, n_way, n_support, n_query, max_epoch, epoch_size):\n",
    "    scheduler = optim.lr_scheduler.StepLR(optimizer, 1, gamma=0.5, last_epoch=-1)\n",
    "    epoch = 0\n",
    "    prev_epoch_loss = float(\"inf\")\n",
    "\n",
    "    while epoch < max_epoch:\n",
    "        running_loss = 0.0\n",
    "        running_acc = 0.0\n",
    "        for _ in tqdm(range(epoch_size), desc=f\"Epoch {epoch + 1} train\"):\n",
    "            loss, output = model.set_forward_loss(support_x, support_y, query_x, query_y)\n",
    "            running_loss += loss.item()\n",
    "            running_acc += output.item()\n",
    "\n",
    "            loss.backward()\n",
    "            optimizer.step()\n",
    "            optimizer.zero_grad()\n",
    "\n",
    "        epoch_loss = running_loss / epoch_size\n",
    "        epoch_acc = running_acc / epoch_size\n",
    "        print(f\"Epoch {epoch + 1} -- Loss: {epoch_loss:.4f}, Accuracy: {epoch_acc:.4f}\")\n",
    "\n",
    "        if epoch_loss < prev_epoch_loss:\n",
    "            torch.save(model.state_dict(), f\"protonet_epoch_{epoch}.pth\")\n",
    "            prev_epoch_loss = epoch_loss\n",
    "\n",
    "        epoch += 1\n",
    "        scheduler.step()\n"
   ],
   "metadata": {
    "collapsed": false
   }
  },
  {
   "cell_type": "code",
   "execution_count": 53,
   "outputs": [
    {
     "name": "stdout",
     "output_type": "stream",
     "text": [
      "Attack Samples: 0\n",
      "Normal Samples: 0\n"
     ]
    },
    {
     "ename": "ValueError",
     "evalue": "With n_samples=0, test_size=0.6 and train_size=None, the resulting train set will be empty. Adjust any of the aforementioned parameters.",
     "output_type": "error",
     "traceback": [
      "\u001B[1;31m---------------------------------------------------------------------------\u001B[0m",
      "\u001B[1;31mValueError\u001B[0m                                Traceback (most recent call last)",
      "\u001B[1;32m~\\AppData\\Local\\Temp\\ipykernel_16236\\130928399.py\u001B[0m in \u001B[0;36m<module>\u001B[1;34m\u001B[0m\n\u001B[0;32m      8\u001B[0m \u001B[1;33m\u001B[0m\u001B[0m\n\u001B[0;32m      9\u001B[0m     \u001B[1;31m# Load and preprocess the dataset\u001B[0m\u001B[1;33m\u001B[0m\u001B[1;33m\u001B[0m\u001B[1;33m\u001B[0m\u001B[0m\n\u001B[1;32m---> 10\u001B[1;33m     \u001B[0msupport_x\u001B[0m\u001B[1;33m,\u001B[0m \u001B[0msupport_y\u001B[0m\u001B[1;33m,\u001B[0m \u001B[0mquery_x\u001B[0m\u001B[1;33m,\u001B[0m \u001B[0mquery_y\u001B[0m \u001B[1;33m=\u001B[0m \u001B[0mpreprocess_binary_csv\u001B[0m\u001B[1;33m(\u001B[0m\u001B[0mcsv_path\u001B[0m\u001B[1;33m,\u001B[0m \u001B[0mn_support\u001B[0m\u001B[1;33m,\u001B[0m \u001B[0mn_query\u001B[0m\u001B[1;33m)\u001B[0m\u001B[1;33m\u001B[0m\u001B[1;33m\u001B[0m\u001B[0m\n\u001B[0m\u001B[0;32m     11\u001B[0m \u001B[1;33m\u001B[0m\u001B[0m\n\u001B[0;32m     12\u001B[0m     \u001B[1;31m# Model setup\u001B[0m\u001B[1;33m\u001B[0m\u001B[1;33m\u001B[0m\u001B[1;33m\u001B[0m\u001B[0m\n",
      "\u001B[1;32m~\\AppData\\Local\\Temp\\ipykernel_16236\\1478180570.py\u001B[0m in \u001B[0;36mpreprocess_binary_csv\u001B[1;34m(csv_path, n_support, n_query)\u001B[0m\n\u001B[0;32m     19\u001B[0m \u001B[1;33m\u001B[0m\u001B[0m\n\u001B[0;32m     20\u001B[0m     \u001B[1;31m# Split each class into support and query sets, ensuring we don't exceed available samples\u001B[0m\u001B[1;33m\u001B[0m\u001B[1;33m\u001B[0m\u001B[1;33m\u001B[0m\u001B[0m\n\u001B[1;32m---> 21\u001B[1;33m     \u001B[0mattack_support\u001B[0m\u001B[1;33m,\u001B[0m \u001B[0mattack_query\u001B[0m \u001B[1;33m=\u001B[0m \u001B[0mtrain_test_split\u001B[0m\u001B[1;33m(\u001B[0m\u001B[0mattack_data\u001B[0m\u001B[1;33m,\u001B[0m \u001B[0mtest_size\u001B[0m\u001B[1;33m=\u001B[0m\u001B[1;36m0.6\u001B[0m\u001B[1;33m,\u001B[0m \u001B[0mrandom_state\u001B[0m\u001B[1;33m=\u001B[0m\u001B[1;36m42\u001B[0m\u001B[1;33m)\u001B[0m  \u001B[1;31m# Change test_size to 0.6\u001B[0m\u001B[1;33m\u001B[0m\u001B[1;33m\u001B[0m\u001B[0m\n\u001B[0m\u001B[0;32m     22\u001B[0m     \u001B[0mnormal_support\u001B[0m\u001B[1;33m,\u001B[0m \u001B[0mnormal_query\u001B[0m \u001B[1;33m=\u001B[0m \u001B[0mtrain_test_split\u001B[0m\u001B[1;33m(\u001B[0m\u001B[0mnormal_data\u001B[0m\u001B[1;33m,\u001B[0m \u001B[0mtest_size\u001B[0m\u001B[1;33m=\u001B[0m\u001B[1;36m0.6\u001B[0m\u001B[1;33m,\u001B[0m \u001B[0mrandom_state\u001B[0m\u001B[1;33m=\u001B[0m\u001B[1;36m42\u001B[0m\u001B[1;33m)\u001B[0m  \u001B[1;31m# Change test_size to 0.6\u001B[0m\u001B[1;33m\u001B[0m\u001B[1;33m\u001B[0m\u001B[0m\n\u001B[0;32m     23\u001B[0m \u001B[1;33m\u001B[0m\u001B[0m\n",
      "\u001B[1;32m~\\venv\\lib\\site-packages\\sklearn\\model_selection\\_split.py\u001B[0m in \u001B[0;36mtrain_test_split\u001B[1;34m(test_size, train_size, random_state, shuffle, stratify, *arrays)\u001B[0m\n\u001B[0;32m   2419\u001B[0m     \u001B[0mn_samples\u001B[0m \u001B[1;33m=\u001B[0m \u001B[0m_num_samples\u001B[0m\u001B[1;33m(\u001B[0m\u001B[0marrays\u001B[0m\u001B[1;33m[\u001B[0m\u001B[1;36m0\u001B[0m\u001B[1;33m]\u001B[0m\u001B[1;33m)\u001B[0m\u001B[1;33m\u001B[0m\u001B[1;33m\u001B[0m\u001B[0m\n\u001B[0;32m   2420\u001B[0m     n_train, n_test = _validate_shuffle_split(\n\u001B[1;32m-> 2421\u001B[1;33m         \u001B[0mn_samples\u001B[0m\u001B[1;33m,\u001B[0m \u001B[0mtest_size\u001B[0m\u001B[1;33m,\u001B[0m \u001B[0mtrain_size\u001B[0m\u001B[1;33m,\u001B[0m \u001B[0mdefault_test_size\u001B[0m\u001B[1;33m=\u001B[0m\u001B[1;36m0.25\u001B[0m\u001B[1;33m\u001B[0m\u001B[1;33m\u001B[0m\u001B[0m\n\u001B[0m\u001B[0;32m   2422\u001B[0m     )\n\u001B[0;32m   2423\u001B[0m \u001B[1;33m\u001B[0m\u001B[0m\n",
      "\u001B[1;32m~\\venv\\lib\\site-packages\\sklearn\\model_selection\\_split.py\u001B[0m in \u001B[0;36m_validate_shuffle_split\u001B[1;34m(n_samples, test_size, train_size, default_test_size)\u001B[0m\n\u001B[0;32m   2099\u001B[0m             \u001B[1;34m\"With n_samples={}, test_size={} and train_size={}, the \"\u001B[0m\u001B[1;33m\u001B[0m\u001B[1;33m\u001B[0m\u001B[0m\n\u001B[0;32m   2100\u001B[0m             \u001B[1;34m\"resulting train set will be empty. Adjust any of the \"\u001B[0m\u001B[1;33m\u001B[0m\u001B[1;33m\u001B[0m\u001B[0m\n\u001B[1;32m-> 2101\u001B[1;33m             \u001B[1;34m\"aforementioned parameters.\"\u001B[0m\u001B[1;33m.\u001B[0m\u001B[0mformat\u001B[0m\u001B[1;33m(\u001B[0m\u001B[0mn_samples\u001B[0m\u001B[1;33m,\u001B[0m \u001B[0mtest_size\u001B[0m\u001B[1;33m,\u001B[0m \u001B[0mtrain_size\u001B[0m\u001B[1;33m)\u001B[0m\u001B[1;33m\u001B[0m\u001B[1;33m\u001B[0m\u001B[0m\n\u001B[0m\u001B[0;32m   2102\u001B[0m         )\n\u001B[0;32m   2103\u001B[0m \u001B[1;33m\u001B[0m\u001B[0m\n",
      "\u001B[1;31mValueError\u001B[0m: With n_samples=0, test_size=0.6 and train_size=None, the resulting train set will be empty. Adjust any of the aforementioned parameters."
     ]
    }
   ],
   "source": [
    "# Main Script\n",
    "if __name__ == \"__main__\":\n",
    "    csv_path = \"Modified_dataset.csv\"  # Your dataset file name\n",
    "    n_support = 2  # Number of support samples per class (adjust based on dataset size)\n",
    "    n_query = 3    # Number of query samples per class\n",
    "    max_epoch = 25\n",
    "    epoch_size = 50  # Number of episodes per epoch\n",
    "\n",
    "    # Load and preprocess the dataset\n",
    "    support_x, support_y, query_x, query_y = preprocess_binary_csv(csv_path, n_support, n_query)\n",
    "\n",
    "    # Model setup\n",
    "    model = ProtoNet(\n",
    "        input_dim=support_x.shape[1],  # Number of features\n",
    "        hidden_dim=64,\n",
    "        z_dim=256\n",
    "    ).to(\"cuda:0\" if torch.cuda.is_available() else \"cpu\")\n",
    "\n",
    "    # Optimizer\n",
    "    optimizer = optim.Adam(model.parameters(), lr=0.001)\n",
    "\n",
    "    # Train the model\n",
    "    train(model, optimizer, support_x, support_y, query_x, query_y, n_way=2, n_support=n_support, n_query=n_query, max_epoch=max_epoch, epoch_size=epoch_size)\n",
    "    print(\"Training complete.\")"
   ],
   "metadata": {
    "collapsed": false
   }
  },
  {
   "cell_type": "code",
   "execution_count": 58,
   "outputs": [
    {
     "name": "stdout",
     "output_type": "stream",
     "text": [
      "Attack Samples: 140\n",
      "Normal Samples: 139\n"
     ]
    },
    {
     "name": "stderr",
     "output_type": "stream",
     "text": [
      "Epoch 1 train: 100%|██████████| 50/50 [00:00<00:00, 233.02it/s]\n"
     ]
    },
    {
     "name": "stdout",
     "output_type": "stream",
     "text": [
      "Epoch 1 -- Loss: 5371651.0897, Accuracy: 0.5500\n"
     ]
    },
    {
     "name": "stderr",
     "output_type": "stream",
     "text": [
      "Epoch 2 train: 100%|██████████| 50/50 [00:00<00:00, 596.22it/s]\n"
     ]
    },
    {
     "name": "stdout",
     "output_type": "stream",
     "text": [
      "Epoch 2 -- Loss: 44779.9426, Accuracy: 0.6833\n"
     ]
    },
    {
     "name": "stderr",
     "output_type": "stream",
     "text": [
      "Epoch 3 train: 100%|██████████| 50/50 [00:00<00:00, 683.31it/s]\n"
     ]
    },
    {
     "name": "stdout",
     "output_type": "stream",
     "text": [
      "Epoch 3 -- Loss: 13168.7842, Accuracy: 0.7733\n"
     ]
    },
    {
     "name": "stderr",
     "output_type": "stream",
     "text": [
      "Epoch 4 train: 100%|██████████| 50/50 [00:00<00:00, 595.30it/s]\n"
     ]
    },
    {
     "name": "stdout",
     "output_type": "stream",
     "text": [
      "Epoch 4 -- Loss: 5644.9492, Accuracy: 0.8067\n"
     ]
    },
    {
     "name": "stderr",
     "output_type": "stream",
     "text": [
      "Epoch 5 train: 100%|██████████| 50/50 [00:00<00:00, 579.85it/s]\n"
     ]
    },
    {
     "name": "stdout",
     "output_type": "stream",
     "text": [
      "Epoch 5 -- Loss: 3216.0650, Accuracy: 0.8333\n"
     ]
    },
    {
     "name": "stderr",
     "output_type": "stream",
     "text": [
      "Epoch 6 train: 100%|██████████| 50/50 [00:00<00:00, 675.04it/s]\n"
     ]
    },
    {
     "name": "stdout",
     "output_type": "stream",
     "text": [
      "Epoch 6 -- Loss: 395.9683, Accuracy: 0.9200\n"
     ]
    },
    {
     "name": "stderr",
     "output_type": "stream",
     "text": [
      "Epoch 7 train: 100%|██████████| 50/50 [00:00<00:00, 583.06it/s]\n"
     ]
    },
    {
     "name": "stdout",
     "output_type": "stream",
     "text": [
      "Epoch 7 -- Loss: 15.3358, Accuracy: 0.9767\n"
     ]
    },
    {
     "name": "stderr",
     "output_type": "stream",
     "text": [
      "Epoch 8 train: 100%|██████████| 50/50 [00:00<00:00, 579.41it/s]\n"
     ]
    },
    {
     "name": "stdout",
     "output_type": "stream",
     "text": [
      "Epoch 8 -- Loss: 2.5933, Accuracy: 0.9933\n"
     ]
    },
    {
     "name": "stderr",
     "output_type": "stream",
     "text": [
      "Epoch 9 train: 100%|██████████| 50/50 [00:00<00:00, 629.37it/s]\n"
     ]
    },
    {
     "name": "stdout",
     "output_type": "stream",
     "text": [
      "Epoch 9 -- Loss: 0.4533, Accuracy: 0.9967\n"
     ]
    },
    {
     "name": "stderr",
     "output_type": "stream",
     "text": [
      "Epoch 10 train: 100%|██████████| 50/50 [00:00<00:00, 625.52it/s]\n"
     ]
    },
    {
     "name": "stdout",
     "output_type": "stream",
     "text": [
      "Epoch 10 -- Loss: 0.0000, Accuracy: 1.0000\n"
     ]
    },
    {
     "name": "stderr",
     "output_type": "stream",
     "text": [
      "Epoch 11 train: 100%|██████████| 50/50 [00:00<00:00, 363.62it/s]\n"
     ]
    },
    {
     "name": "stdout",
     "output_type": "stream",
     "text": [
      "Epoch 11 -- Loss: 0.0000, Accuracy: 1.0000\n"
     ]
    },
    {
     "name": "stderr",
     "output_type": "stream",
     "text": [
      "Epoch 12 train: 100%|██████████| 50/50 [00:00<00:00, 478.58it/s]\n"
     ]
    },
    {
     "name": "stdout",
     "output_type": "stream",
     "text": [
      "Epoch 12 -- Loss: 0.0000, Accuracy: 1.0000\n"
     ]
    },
    {
     "name": "stderr",
     "output_type": "stream",
     "text": [
      "Epoch 13 train: 100%|██████████| 50/50 [00:00<00:00, 558.76it/s]\n"
     ]
    },
    {
     "name": "stdout",
     "output_type": "stream",
     "text": [
      "Epoch 13 -- Loss: 0.0000, Accuracy: 1.0000\n"
     ]
    },
    {
     "name": "stderr",
     "output_type": "stream",
     "text": [
      "Epoch 14 train: 100%|██████████| 50/50 [00:00<00:00, 683.91it/s]\n"
     ]
    },
    {
     "name": "stdout",
     "output_type": "stream",
     "text": [
      "Epoch 14 -- Loss: 0.0000, Accuracy: 1.0000\n"
     ]
    },
    {
     "name": "stderr",
     "output_type": "stream",
     "text": [
      "Epoch 15 train: 100%|██████████| 50/50 [00:00<00:00, 633.12it/s]\n"
     ]
    },
    {
     "name": "stdout",
     "output_type": "stream",
     "text": [
      "Epoch 15 -- Loss: 0.0000, Accuracy: 1.0000\n"
     ]
    },
    {
     "name": "stderr",
     "output_type": "stream",
     "text": [
      "Epoch 16 train: 100%|██████████| 50/50 [00:00<00:00, 486.27it/s]\n"
     ]
    },
    {
     "name": "stdout",
     "output_type": "stream",
     "text": [
      "Epoch 16 -- Loss: 0.0000, Accuracy: 1.0000\n"
     ]
    },
    {
     "name": "stderr",
     "output_type": "stream",
     "text": [
      "Epoch 17 train: 100%|██████████| 50/50 [00:00<00:00, 652.52it/s]\n"
     ]
    },
    {
     "name": "stdout",
     "output_type": "stream",
     "text": [
      "Epoch 17 -- Loss: 0.0000, Accuracy: 1.0000\n"
     ]
    },
    {
     "name": "stderr",
     "output_type": "stream",
     "text": [
      "Epoch 18 train: 100%|██████████| 50/50 [00:00<00:00, 578.45it/s]\n"
     ]
    },
    {
     "name": "stdout",
     "output_type": "stream",
     "text": [
      "Epoch 18 -- Loss: 0.0000, Accuracy: 1.0000\n"
     ]
    },
    {
     "name": "stderr",
     "output_type": "stream",
     "text": [
      "Epoch 19 train: 100%|██████████| 50/50 [00:00<00:00, 641.94it/s]\n"
     ]
    },
    {
     "name": "stdout",
     "output_type": "stream",
     "text": [
      "Epoch 19 -- Loss: 0.0000, Accuracy: 1.0000\n"
     ]
    },
    {
     "name": "stderr",
     "output_type": "stream",
     "text": [
      "Epoch 20 train: 100%|██████████| 50/50 [00:00<00:00, 635.49it/s]\n"
     ]
    },
    {
     "name": "stdout",
     "output_type": "stream",
     "text": [
      "Epoch 20 -- Loss: 0.0000, Accuracy: 1.0000\n"
     ]
    },
    {
     "name": "stderr",
     "output_type": "stream",
     "text": [
      "Epoch 21 train: 100%|██████████| 50/50 [00:00<00:00, 501.20it/s]\n"
     ]
    },
    {
     "name": "stdout",
     "output_type": "stream",
     "text": [
      "Epoch 21 -- Loss: 0.0000, Accuracy: 1.0000\n"
     ]
    },
    {
     "name": "stderr",
     "output_type": "stream",
     "text": [
      "Epoch 22 train: 100%|██████████| 50/50 [00:00<00:00, 497.53it/s]\n"
     ]
    },
    {
     "name": "stdout",
     "output_type": "stream",
     "text": [
      "Epoch 22 -- Loss: 0.0000, Accuracy: 1.0000\n"
     ]
    },
    {
     "name": "stderr",
     "output_type": "stream",
     "text": [
      "Epoch 23 train: 100%|██████████| 50/50 [00:00<00:00, 424.78it/s]\n"
     ]
    },
    {
     "name": "stdout",
     "output_type": "stream",
     "text": [
      "Epoch 23 -- Loss: 0.0000, Accuracy: 1.0000\n"
     ]
    },
    {
     "name": "stderr",
     "output_type": "stream",
     "text": [
      "Epoch 24 train: 100%|██████████| 50/50 [00:00<00:00, 418.27it/s]\n"
     ]
    },
    {
     "name": "stdout",
     "output_type": "stream",
     "text": [
      "Epoch 24 -- Loss: 0.0000, Accuracy: 1.0000\n"
     ]
    },
    {
     "name": "stderr",
     "output_type": "stream",
     "text": [
      "Epoch 25 train: 100%|██████████| 50/50 [00:00<00:00, 421.53it/s]"
     ]
    },
    {
     "name": "stdout",
     "output_type": "stream",
     "text": [
      "Epoch 25 -- Loss: 0.0000, Accuracy: 1.0000\n",
      "Training complete.\n"
     ]
    },
    {
     "name": "stderr",
     "output_type": "stream",
     "text": [
      "\n"
     ]
    }
   ],
   "source": [
    "import pandas as pd\n",
    "import torch\n",
    "import torch.optim as optim\n",
    "from sklearn.model_selection import train_test_split\n",
    "import torch.nn as nn\n",
    "from tqdm import tqdm\n",
    "\n",
    "# Preprocessing Function\n",
    "import pandas as pd\n",
    "import torch\n",
    "from sklearn.model_selection import train_test_split\n",
    "\n",
    "def preprocess_binary_csv(csv_path, n_support, n_query):\n",
    "    \"\"\"\n",
    "    Preprocess CSV data into support and query sets for binary classification.\n",
    "    \"\"\"\n",
    "    df = pd.read_csv(csv_path)\n",
    "\n",
    "    # Clean column names (remove extra spaces if any)\n",
    "    df.columns = df.columns.str.strip()\n",
    "\n",
    "    # Ensure all features are numeric and handle missing data\n",
    "    # Exclude 'Attack Type' and 'Label' columns from the features\n",
    "    feature_columns = df.columns.difference(['Label', 'Attack Type'])\n",
    "\n",
    "    # Convert all feature columns to numeric, coercing errors (non-numeric values to NaN)\n",
    "    df[feature_columns] = df[feature_columns].apply(pd.to_numeric, errors='coerce')\n",
    "\n",
    "    # Drop rows with NaN values in the feature columns\n",
    "    df = df.dropna(subset=feature_columns)\n",
    "\n",
    "    # Separate the two classes: attack (1) and normal (0)\n",
    "    attack_data = df[df[\"Label\"] == 1]\n",
    "    normal_data = df[df[\"Label\"] == 0]\n",
    "\n",
    "    print(f\"Attack Samples: {len(attack_data)}\")\n",
    "    print(f\"Normal Samples: {len(normal_data)}\")\n",
    "\n",
    "    # Ensure we have enough samples for both support and query sets\n",
    "    if len(attack_data) < n_support + n_query or len(normal_data) < n_support + n_query:\n",
    "        raise ValueError(\"Not enough samples in one or more classes to split into support and query sets.\")\n",
    "\n",
    "    # Split each class into support and query sets (adjust the ratio if needed)\n",
    "    attack_support, attack_query = train_test_split(attack_data, test_size=0.6, random_state=42)  # 60% for query\n",
    "    normal_support, normal_query = train_test_split(normal_data, test_size=0.6, random_state=42)  # 60% for query\n",
    "\n",
    "    # Ensure the appropriate number of samples for support and query sets\n",
    "    attack_support = attack_support[:n_support]\n",
    "    normal_support = normal_support[:n_support]\n",
    "    attack_query = attack_query[:n_query]\n",
    "    normal_query = normal_query[:n_query]\n",
    "\n",
    "    # Combine the support and query sets for both classes\n",
    "    support_set = pd.concat([attack_support, normal_support])\n",
    "    query_set = pd.concat([attack_query, normal_query])\n",
    "\n",
    "    # Convert to PyTorch tensors\n",
    "    support_x = torch.tensor(support_set[feature_columns].values, dtype=torch.float32)  # Only numeric columns\n",
    "    support_y = torch.tensor(support_set[\"Label\"].values, dtype=torch.int64)\n",
    "\n",
    "    query_x = torch.tensor(query_set[feature_columns].values, dtype=torch.float32)\n",
    "    query_y = torch.tensor(query_set[\"Label\"].values, dtype=torch.int64)\n",
    "\n",
    "    return support_x, support_y, query_x, query_y\n",
    "\n",
    "\n",
    "\n",
    "# Prototypical Network (ProtoNet)\n",
    "class ProtoNet(nn.Module):\n",
    "    def __init__(self, input_dim, hidden_dim, z_dim):\n",
    "        super(ProtoNet, self).__init__()\n",
    "        self.fc1 = nn.Linear(input_dim, hidden_dim)\n",
    "        self.fc2 = nn.Linear(hidden_dim, z_dim)\n",
    "\n",
    "    def forward(self, x):\n",
    "        x = torch.relu(self.fc1(x))\n",
    "        x = self.fc2(x)\n",
    "        return x\n",
    "\n",
    "    def set_forward_loss(self, support_x, support_y, query_x, query_y):\n",
    "        # Forward pass for support set and query set\n",
    "        support_embed = self.forward(support_x)\n",
    "        query_embed = self.forward(query_x)\n",
    "\n",
    "        # Calculate prototypes\n",
    "        prototypes = self.compute_prototypes(support_embed, support_y)\n",
    "\n",
    "        # Calculate distances between query points and prototypes\n",
    "        distances = self.compute_distances(query_embed, prototypes)\n",
    "\n",
    "        # Compute loss (Cross-Entropy)\n",
    "        loss = nn.CrossEntropyLoss()(distances, query_y)\n",
    "        accuracy = (distances.argmax(dim=1) == query_y).float().mean()\n",
    "\n",
    "        return loss, accuracy\n",
    "\n",
    "    def compute_prototypes(self, support_embed, support_y):\n",
    "        # Compute prototypes by averaging embeddings for each class\n",
    "        unique_labels = torch.unique(support_y)\n",
    "        prototypes = []\n",
    "        for label in unique_labels:\n",
    "            class_embed = support_embed[support_y == label]\n",
    "            prototypes.append(class_embed.mean(dim=0))\n",
    "        return torch.stack(prototypes)\n",
    "\n",
    "    def compute_distances(self, query_embed, prototypes):\n",
    "        # Calculate Euclidean distances between query embeddings and class prototypes\n",
    "        distances = torch.cdist(query_embed, prototypes)\n",
    "        return distances\n",
    "\n",
    "\n",
    "# Training Function\n",
    "def train(model, optimizer, support_x, support_y, query_x, query_y, n_way, n_support, n_query, max_epoch, epoch_size):\n",
    "    \"\"\"\n",
    "    Train the Prototypical Network.\n",
    "    \"\"\"\n",
    "    scheduler = optim.lr_scheduler.StepLR(optimizer, 1, gamma=0.5, last_epoch=-1)\n",
    "    epoch = 0\n",
    "    prev_epoch_loss = float(\"inf\")\n",
    "\n",
    "    while epoch < max_epoch:\n",
    "        running_loss = 0.0\n",
    "        running_acc = 0.0\n",
    "        for _ in tqdm(range(epoch_size), desc=f\"Epoch {epoch + 1} train\"):\n",
    "            loss, output = model.set_forward_loss(support_x, support_y, query_x, query_y)\n",
    "            running_loss += loss.item()\n",
    "            running_acc += output.item()\n",
    "\n",
    "            loss.backward()\n",
    "            optimizer.step()\n",
    "            optimizer.zero_grad()\n",
    "\n",
    "        epoch_loss = running_loss / epoch_size\n",
    "        epoch_acc = running_acc / epoch_size\n",
    "        print(f\"Epoch {epoch + 1} -- Loss: {epoch_loss:.4f}, Accuracy: {epoch_acc:.4f}\")\n",
    "\n",
    "        if epoch_loss < prev_epoch_loss:\n",
    "            torch.save(model.state_dict(), f\"protonet_epoch_{epoch}.pth\")\n",
    "            prev_epoch_loss = epoch_loss\n",
    "\n",
    "        epoch += 1\n",
    "        scheduler.step()\n",
    "\n",
    "\n",
    "# Main Script\n",
    "if __name__ == \"__main__\":\n",
    "    csv_path = \"Modified_dataset.csv\"  # Your dataset file name\n",
    "    n_support = 2  # Number of support samples per class (adjust based on dataset size)\n",
    "    n_query = 3    # Number of query samples per class\n",
    "    max_epoch = 25\n",
    "    epoch_size = 50  # Number of episodes per epoch\n",
    "\n",
    "    # Load and preprocess the dataset\n",
    "    support_x, support_y, query_x, query_y = preprocess_binary_csv(csv_path, n_support, n_query)\n",
    "\n",
    "    # Model setup\n",
    "    model = ProtoNet(\n",
    "        input_dim=support_x.shape[1],  # Number of features\n",
    "        hidden_dim=64,\n",
    "        z_dim=256\n",
    "    ).to(\"cuda:0\" if torch.cuda.is_available() else \"cpu\")\n",
    "\n",
    "    # Optimizer\n",
    "    optimizer = optim.Adam(model.parameters(), lr=\\.001)\n",
    "\n",
    "\n",
    "    # Train the model\n",
    "    train(model, optimizer, support_x, support_y, query_x, query_y, n_way=2, n_support=n_support, n_query=n_query, max_epoch=max_epoch, epoch_size=epoch_size)\n",
    "    print(\"Training complete.\")"
   ],
   "metadata": {
    "collapsed": false
   }
  },
  {
   "cell_type": "code",
   "execution_count": 59,
   "outputs": [
    {
     "name": "stdout",
     "output_type": "stream",
     "text": [
      "Model saved successfully!\n"
     ]
    }
   ],
   "source": [
    "torch.save(model.state_dict(), \"protonet_final_model.pth\")\n",
    "print(\"Model saved successfully!\")"
   ],
   "metadata": {
    "collapsed": false
   }
  },
  {
   "cell_type": "code",
   "execution_count": 61,
   "outputs": [
    {
     "data": {
      "text/plain": "ProtoNet(\n  (fc1): Linear(in_features=78, out_features=64, bias=True)\n  (fc2): Linear(in_features=64, out_features=256, bias=True)\n)"
     },
     "execution_count": 61,
     "metadata": {},
     "output_type": "execute_result"
    }
   ],
   "source": [
    "model.load_state_dict(torch.load(\"protonet_final_model.pth\"))  # Load the best model\n",
    "model.eval()  # Set the model to evaluation mode\n"
   ],
   "metadata": {
    "collapsed": false
   }
  },
  {
   "cell_type": "code",
   "execution_count": 62,
   "outputs": [
    {
     "name": "stdout",
     "output_type": "stream",
     "text": [
      "Model Accuracy on Query Set: 66.67%\n"
     ]
    }
   ],
   "source": [
    "def evaluate_model(model, query_x, query_y):\n",
    "    model.eval()  # Set the model to evaluation mode\n",
    "    with torch.no_grad():  # No need to compute gradients during evaluation\n",
    "        # Forward pass\n",
    "        query_embed = model(query_x)\n",
    "\n",
    "        # Compute prototypes from query labels\n",
    "        unique_labels = torch.unique(query_y)\n",
    "        prototypes = []\n",
    "        for label in unique_labels:\n",
    "            class_embed = query_embed[query_y == label]\n",
    "            prototypes.append(class_embed.mean(dim=0))\n",
    "        prototypes = torch.stack(prototypes)\n",
    "\n",
    "        # Calculate distances between query embeddings and prototypes\n",
    "        distances = torch.cdist(query_embed, prototypes)\n",
    "        # Get the predicted class (class with the minimum distance)\n",
    "        predictions = distances.argmin(dim=1)\n",
    "\n",
    "        # Calculate accuracy\n",
    "        accuracy = (predictions == query_y).float().mean()\n",
    "        return accuracy.item()\n",
    "\n",
    "# Evaluate on the query set\n",
    "accuracy = evaluate_model(model, query_x, query_y)\n",
    "print(f\"Model Accuracy on Query Set: {accuracy * 100:.2f}%\")\n"
   ],
   "metadata": {
    "collapsed": false
   }
  },
  {
   "cell_type": "code",
   "execution_count": 66,
   "outputs": [
    {
     "ename": "NameError",
     "evalue": "name 'acc_loss_df' is not defined",
     "output_type": "error",
     "traceback": [
      "\u001B[1;31m---------------------------------------------------------------------------\u001B[0m",
      "\u001B[1;31mNameError\u001B[0m                                 Traceback (most recent call last)",
      "\u001B[1;32m~\\AppData\\Local\\Temp\\ipykernel_16236\\1409446485.py\u001B[0m in \u001B[0;36m<module>\u001B[1;34m\u001B[0m\n\u001B[0;32m     22\u001B[0m \u001B[1;33m\u001B[0m\u001B[0m\n\u001B[0;32m     23\u001B[0m \u001B[1;31m# Assuming acc_loss_df contains the epoch-wise results\u001B[0m\u001B[1;33m\u001B[0m\u001B[1;33m\u001B[0m\u001B[1;33m\u001B[0m\u001B[0m\n\u001B[1;32m---> 24\u001B[1;33m \u001B[0mplot_training_results\u001B[0m\u001B[1;33m(\u001B[0m\u001B[0macc_loss_df\u001B[0m\u001B[1;33m)\u001B[0m\u001B[1;33m\u001B[0m\u001B[1;33m\u001B[0m\u001B[0m\n\u001B[0m\u001B[0;32m     25\u001B[0m \u001B[1;33m\u001B[0m\u001B[0m\n",
      "\u001B[1;31mNameError\u001B[0m: name 'acc_loss_df' is not defined"
     ]
    }
   ],
   "source": [
    "import matplotlib.pyplot as plt\n",
    "\n",
    "def plot_training_results(acc_loss_df):\n",
    "    plt.figure(figsize=(12, 6))\n",
    "\n",
    "    # Plot Loss\n",
    "    plt.subplot(1, 2, 1)\n",
    "    plt.plot(acc_loss_df[\"epoch\"], acc_loss_df[\"loss\"], label=\"Loss\")\n",
    "    plt.title(\"Training Loss\")\n",
    "    plt.xlabel(\"Epoch\")\n",
    "    plt.ylabel(\"Loss\")\n",
    "\n",
    "    # Plot Accuracy\n",
    "    plt.subplot(1, 2, 2)\n",
    "    plt.plot(acc_loss_df[\"epoch\"], acc_loss_df[\"accuracy\"], label=\"Accuracy\")\n",
    "    plt.title(\"Training Accuracy\")\n",
    "    plt.xlabel(\"Epoch\")\n",
    "    plt.ylabel(\"Accuracy\")\n",
    "\n",
    "    plt.tight_layout()\n",
    "    plt.show()\n",
    "\n",
    "# Assuming acc_loss_df contains the epoch-wise results\n",
    "plot_training_results(acc_loss_df)\n"
   ],
   "metadata": {
    "collapsed": false
   }
  },
  {
   "cell_type": "code",
   "execution_count": 64,
   "outputs": [
    {
     "data": {
      "text/plain": "<Figure size 500x400 with 2 Axes>",
      "image/png": "[encoded data removed]"
     },
     "metadata": {},
     "output_type": "display_data"
    }
   ],
   "source": [
    "from sklearn.metrics import confusion_matrix\n",
    "import seaborn as sns\n",
    "\n",
    "def plot_confusion_matrix(query_y, predictions):\n",
    "    cm = confusion_matrix(query_y, predictions)\n",
    "\n",
    "    # Plot confusion matrix\n",
    "    plt.figure(figsize=(5, 4))\n",
    "    sns.heatmap(cm, annot=True, fmt=\"d\", cmap=\"Blues\", xticklabels=[\"Normal\", \"Attack\"], yticklabels=[\"Normal\", \"Attack\"])\n",
    "    plt.title(\"Confusion Matrix\")\n",
    "    plt.xlabel(\"Predicted Label\")\n",
    "    plt.ylabel(\"True Label\")\n",
    "    plt.show()\n",
    "\n",
    "# Generate predictions on query set\n",
    "with torch.no_grad():\n",
    "    query_embed = model(query_x)\n",
    "    unique_labels = torch.unique(query_y)\n",
    "    prototypes = []\n",
    "    for label in unique_labels:\n",
    "        class_embed = query_embed[query_y == label]\n",
    "        prototypes.append(class_embed.mean(dim=0))\n",
    "    prototypes = torch.stack(prototypes)\n",
    "    distances = torch.cdist(query_embed, prototypes)\n",
    "    predictions = distances.argmin(dim=1)\n",
    "\n",
    "# Plot confusion matrix\n",
    "plot_confusion_matrix(query_y, predictions)\n"
   ],
   "metadata": {
    "collapsed": false
   }
  },
  {
   "cell_type": "code",
   "execution_count": 65,
   "outputs": [
    {
     "name": "stdout",
     "output_type": "stream",
     "text": [
      "Precision: 1.0000\n",
      "Recall: 0.3333\n",
      "F1-Score: 0.5000\n"
     ]
    }
   ],
   "source": [
    "from sklearn.metrics import precision_score, recall_score, f1_score\n",
    "\n",
    "precision = precision_score(query_y, predictions)\n",
    "recall = recall_score(query_y, predictions)\n",
    "f1 = f1_score(query_y, predictions)\n",
    "\n",
    "print(f\"Precision: {precision:.4f}\")\n",
    "print(f\"Recall: {recall:.4f}\")\n",
    "print(f\"F1-Score: {f1:.4f}\")\n"
   ],
   "metadata": {
    "collapsed": false
   }
  }
 ],
 "metadata": {
  "kernelspec": {
   "display_name": "Python 3",
   "language": "python",
   "name": "python3"
  },
  "language_info": {
   "codemirror_mode": {
    "name": "ipython",
    "version": 2
   },
   "file_extension": ".py",
   "mimetype": "text/x-python",
   "name": "python",
   "nbconvert_exporter": "python",
   "pygments_lexer": "ipython2",
   "version": "2.7.6"
  }
 },
 "nbformat": 4,
 "nbformat_minor": 0
}
