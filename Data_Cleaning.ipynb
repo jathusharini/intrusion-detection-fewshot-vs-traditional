{
  "cells": [
    {
      "cell_type": "code",
      "execution_count": 14,
      "metadata": {
        "colab": {
          "base_uri": "https://localhost:8080/"
        },
        "id": "ScTHyOl9JeBz",
        "outputId": "1f441d01-466f-4976-ac12-88afb78a260f"
      },
      "outputs": [
        {
          "name": "stdout",
          "output_type": "stream",
          "text": [
            "   Destination Port  Flow Duration  Total Fwd Packets  Total Backward Packets  \\\n",
            "0          0.121268       0.146019           0.676946                0.842174   \n",
            "1          0.121268       0.146019           0.676946                0.842174   \n",
            "2          0.121268       0.146019           0.676946                0.842174   \n",
            "3          0.121268       0.146019           0.676946                0.842174   \n",
            "4          0.121268       0.146019           0.676946                0.842174   \n",
            "\n",
            "   Total Length of Fwd Packets  Total Length of Bwd Packets  \\\n",
            "0                     0.518936                     0.768955   \n",
            "1                     0.518936                     0.768955   \n",
            "2                     0.518936                     0.768955   \n",
            "3                     0.518936                     0.768955   \n",
            "4                     0.518936                     0.768955   \n",
            "\n",
            "   Fwd Packet Length Max  Fwd Packet Length Min  Fwd Packet Length Mean  \\\n",
            "0               0.518936              -0.570549                0.523655   \n",
            "1               0.518936              -0.570549                0.523655   \n",
            "2               0.518936              -0.570549                0.523655   \n",
            "3               0.518936              -0.570549                0.523655   \n",
            "4               0.518936              -0.570549                0.523655   \n",
            "\n",
            "   Fwd Packet Length Std  ...  Active Mean Active Std  Active Max  Active Min  \\\n",
            "0               0.808781  ...     2.624064  -0.264135    2.624064    2.624064   \n",
            "1               0.808781  ...    -0.381088  -0.264135   -0.381088   -0.381088   \n",
            "2               0.808781  ...    -0.381088  -0.264135   -0.381088   -0.381088   \n",
            "3               0.808781  ...    -0.381088  -0.264135   -0.381088   -0.381088   \n",
            "4               0.808781  ...    -0.381088  -0.264135   -0.381088   -0.381088   \n",
            "\n",
            "   Idle Mean  Idle Std  Idle Max  Idle Min  Attack Type     Label  \n",
            "0   2.624064 -0.294303  2.624064  2.624064            8  0.985611  \n",
            "1  -0.381088 -0.294303 -0.381088 -0.381088            8  0.985611  \n",
            "2  -0.381088 -0.294303 -0.381088 -0.381088            8  0.985611  \n",
            "3  -0.381088 -0.294303 -0.381088 -0.381088            8  0.985611  \n",
            "4  -0.381088 -0.294303 -0.381088 -0.381088            8  0.985611  \n",
            "\n",
            "[5 rows x 80 columns]\n"
          ]
        },
        {
          "name": "stderr",
          "output_type": "stream",
          "text": [
            "<ipython-input-14-2d134a0bce59>:17: FutureWarning: A value is trying to be set on a copy of a DataFrame or Series through chained assignment using an inplace method.\n",
            "The behavior will change in pandas 3.0. This inplace method will never work because the intermediate object on which we are setting values always behaves as a copy.\n",
            "\n",
            "For example, when doing 'df[col].method(value, inplace=True)', try using 'df.method({col: value}, inplace=True)' or df[col] = df[col].method(value) instead, to perform the operation inplace on the original object.\n",
            "\n",
            "\n",
            "  df[col].fillna(df[col].median(), inplace=True)\n",
            "<ipython-input-14-2d134a0bce59>:20: FutureWarning: A value is trying to be set on a copy of a DataFrame or Series through chained assignment using an inplace method.\n",
            "The behavior will change in pandas 3.0. This inplace method will never work because the intermediate object on which we are setting values always behaves as a copy.\n",
            "\n",
            "For example, when doing 'df[col].method(value, inplace=True)', try using 'df.method({col: value}, inplace=True)' or df[col] = df[col].method(value) instead, to perform the operation inplace on the original object.\n",
            "\n",
            "\n",
            "  df[col].fillna(df[col].mode()[0], inplace=True)\n"
          ]
        }
      ],
      "source": [
        "import pandas as pd\n",
        "from sklearn.preprocessing import StandardScaler\n",
        "from scipy import stats\n",
        "\n",
        "# Load the dataset\n",
        "df = pd.read_csv('/content/Modified_dataset.csv')\n",
        "\n",
        "# Step 1: Handle Missing Values\n",
        "missing_data_rows = df[df.isna().any(axis=1)]\n",
        "\n",
        "# Fill numerical columns with the median and categorical columns with the mode\n",
        "num_columns = df.select_dtypes(include=['float64', 'int64']).columns\n",
        "cat_columns = df.select_dtypes(include=['object']).columns\n",
        "\n",
        "for col in num_columns:\n",
        "    df[col].fillna(df[col].median(), inplace=True)\n",
        "\n",
        "for col in cat_columns:\n",
        "    df[col].fillna(df[col].mode()[0], inplace=True)\n",
        "\n",
        "# Step 2: Remove Duplicates\n",
        "duplicate_rows = df[df.duplicated()]\n",
        "df.drop_duplicates(inplace=True)\n",
        "\n",
        "# Step 3: Encode Categorical Columns\n",
        "# Encode 'Attack Type' and 'Label' columns if they are categorical\n",
        "for col in ['Attack Type', 'Label']:\n",
        "    if col in df.columns and df[col].dtype == 'object':\n",
        "        df[col] = pd.Categorical(df[col]).codes\n",
        "\n",
        "# Step 4: Outlier Handling\n",
        "z_scores = stats.zscore(df[num_columns])\n",
        "abs_z_scores = abs(z_scores)\n",
        "df[num_columns] = np.clip(df[num_columns], -3, 3)\n",
        "\n",
        "# Step 5: Feature Scaling\n",
        "scaler = StandardScaler()\n",
        "df[num_columns] = scaler.fit_transform(df[num_columns])\n",
        "\n",
        "# Display a preview of the cleaned data\n",
        "print(df.head())\n",
        "\n",
        "# Save the cleaned data\n",
        "df.to_csv('cleaned_dataset.csv', index=False)\n"
      ]
    }
  ],
  "metadata": {
    "colab": {
      "provenance": []
    },
    "kernelspec": {
      "display_name": "Python 3",
      "name": "python3"
    },
    "language_info": {
      "name": "python"
    }
  },
  "nbformat": 4,
  "nbformat_minor": 0
}
