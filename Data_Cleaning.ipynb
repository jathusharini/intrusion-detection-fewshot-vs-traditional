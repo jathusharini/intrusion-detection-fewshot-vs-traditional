{
  "cells": [
    {
      "cell_type": "code",
      "execution_count": 3,
      "metadata": {
        "colab": {
          "base_uri": "https://localhost:8080/"
        },
        "id": "ScTHyOl9JeBz",
        "outputId": "1f441d01-466f-4976-ac12-88afb78a260f"
      },
      "outputs": [
        {
          "name": "stdout",
          "output_type": "stream",
          "text": [
            "   Destination Port  Flow Duration  Total Fwd Packets  Total Backward Packets  \\\n",
            "0               444      119302728               2685                    1729   \n",
            "1               444      119262215               2792                    2110   \n",
            "2               444      119261118               2794                    2130   \n",
            "3               444      119260295               2791                    2114   \n",
            "4               444      119297996               2782                    2089   \n",
            "\n",
            "   Total Length of Fwd Packets  Total Length of Bwd Packets  \\\n",
            "0                         8299                      7556917   \n",
            "1                        13712                      7878135   \n",
            "2                        12264                      7879536   \n",
            "3                        13712                      7878088   \n",
            "4                         9368                      7882432   \n",
            "\n",
            "   Fwd Packet Length Max  Fwd Packet Length Min  Fwd Packet Length Mean  \\\n",
            "0                    517                      0                3.090875   \n",
            "1                   5792                      0                4.911175   \n",
            "2                   4344                      0                4.389406   \n",
            "3                   5792                      0                4.912934   \n",
            "4                   1448                      0                3.367362   \n",
            "\n",
            "   Fwd Packet Length Std  ...  Active Mean Active Std  Active Max  Active Min  \\\n",
            "0              16.858421  ...       2217.0        0.0        2217        2217   \n",
            "1             110.376448  ...          0.0        0.0           0           0   \n",
            "2              83.211635  ...          0.0        0.0           0           0   \n",
            "3             110.396187  ...          0.0        0.0           0           0   \n",
            "4              30.505030  ...          0.0        0.0           0           0   \n",
            "\n",
            "   Idle Mean  Idle Std  Idle Max  Idle Min  Attack Type  Label  \n",
            "0  5024984.0       0.0   5024984   5024984   Heartbleed      1  \n",
            "1        0.0       0.0         0         0   Heartbleed      1  \n",
            "2        0.0       0.0         0         0   Heartbleed      1  \n",
            "3        0.0       0.0         0         0   Heartbleed      1  \n",
            "4        0.0       0.0         0         0   Heartbleed      1  \n",
            "\n",
            "[5 rows x 80 columns]\n"
          ]
        }
      ],
      "source": [
        "import pandas as pd\n",
        "\n",
        "# Load the dataset\n",
        "df = pd.read_csv('/Users/tharanidissanayake/Documents/intrusion-detection-fewshot-vs-traditional/Modified_dataset.csv')\n",
        "\n",
        "# Step 1: Handle Missing Values\n",
        "missing_data_rows = df[df.isna().any(axis=1)]\n",
        "\n",
        "# Step 2: Remove Duplicates\n",
        "df.drop_duplicates(inplace=True)\n",
        "\n",
        "# Display a preview of the cleaned data\n",
        "print(df.head())\n",
        "\n",
        "# Save the cleaned data\n",
        "df.to_csv('cleaned_dataset.csv', index=False)\n"
      ]
    }
  ],
  "metadata": {
    "colab": {
      "provenance": []
    },
    "kernelspec": {
      "display_name": "Python 3",
      "name": "python3"
    },
    "language_info": {
      "codemirror_mode": {
        "name": "ipython",
        "version": 3
      },
      "file_extension": ".py",
      "mimetype": "text/x-python",
      "name": "python",
      "nbconvert_exporter": "python",
      "pygments_lexer": "ipython3",
      "version": "3.8.10"
    }
  },
  "nbformat": 4,
  "nbformat_minor": 0
}
